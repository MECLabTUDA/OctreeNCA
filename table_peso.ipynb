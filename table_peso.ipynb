{
 "cells": [
  {
   "cell_type": "code",
   "execution_count": 8,
   "metadata": {},
   "outputs": [],
   "source": [
    "import numpy as np\n",
    "import pandas as pd\n",
    "import seaborn as sns\n",
    "import matplotlib.pyplot as plt\n",
    "import json, os"
   ]
  },
  {
   "cell_type": "code",
   "execution_count": null,
   "metadata": {},
   "outputs": [],
   "source": [
    "models = [\n",
    "    (\"<path>/Experiments/pesofFixAbl_none_10_1.0_16_3_1.0_0.99_OctreeNCA2DSegmentation/\", \"OctreeNCA\"),\n",
    "    (\"<path>/Experiments/peso_med_OctreeNCA2DSegmentation/\", \"Med-NCA\"),\n",
    "    (\"<path>/Experiments/peso_unet_UNet2DSegmentation/\", \"UNet\"),\n",
    "    (\"<path>/Experiments/peso_UNet_efficientnet-b0_0_MinUNet2DSegmentation/\", \"Efficientnet\"),\n",
    "    (\"<path>/Experiments/peso_UNet_mobilenet_v2_0_MinUNet2DSegmentation/\", \"Mobilenetv2\"),\n",
    "    (\"<path>/Experiments/peso_UNet_resnet18_0_MinUNet2DSegmentation/\", \"Resnet18\"),\n",
    "    (\"<path>/Experiments/peso_UNet_vgg11_0_MinUNet2DSegmentation/\", \"VGG11\"),\n",
    "    (\"<path>/Experiments/peso_UnetPlusPlus_resnet34_0_MinUNet2DSegmentation/\", \"UNet++\"),\n",
    "    (\"<path>/Experiments/peso_vit_SegFomer2DSegmentation/\", \"SegFormer\"),\n",
    "    (\"<path>/Experiments/peso_sam_Sam2DSegmentation/\", \"SAM\"),\n",
    "]"
   ]
  },
  {
   "cell_type": "code",
   "execution_count": 10,
   "metadata": {},
   "outputs": [
    {
     "name": "stderr",
     "output_type": "stream",
     "text": [
      "/tmp/ipykernel_196464/4105692321.py:26: FutureWarning: The behavior of DataFrame concatenation with empty or all-NA entries is deprecated. In a future version, this will no longer exclude empty or all-NA columns when determining the result dtypes. To retain the old behavior, exclude the relevant entries before the concat operation.\n",
      "  all_files = pd.concat(all_files)\n"
     ]
    }
   ],
   "source": [
    "annnotation_list = []\n",
    "annotation_dict = {}\n",
    "all_files = []\n",
    "for i, (model, model_name) in enumerate(models):\n",
    "    score = pd.read_csv(f\"{model}/eval/standard.csv\", sep='\\t').loc[:, \"PatchwiseDiceScore/0\"] * 100\n",
    "\n",
    "    score_std = score.std()\n",
    "    score = score.mean()\n",
    "\n",
    "    eval_file = {}\n",
    "    mem_allocation = None\n",
    "    if os.path.exists(f\"{model}/mem_allocation.json\"):\n",
    "        mem_allocation = round(json.load(open(f\"{model}/mem_allocation.json\"))[\"byte\"] / 1024**3, 2)\n",
    "    num_params = json.load(open(f\"{model}/num_params.json\"))[\"num_params\"]\n",
    "\n",
    "    eval_file[\"model\"] = model_name\n",
    "    eval_file[\"mem_allocation\"] = mem_allocation\n",
    "    eval_file[\"num_params\"] = num_params\n",
    "    eval_file[\"score\"] = round(score, 2)\n",
    "    #eval_file[\"score_std\"] = score_std\n",
    "    df = pd.DataFrame(index=[i], data=eval_file)\n",
    "    all_files.append(df)\n",
    "    annnotation_list.append((num_params, score, model_name))\n",
    "    annotation_dict[model_name] = (num_params, score)\n",
    "\n",
    "all_files = pd.concat(all_files)"
   ]
  },
  {
   "cell_type": "code",
   "execution_count": 11,
   "metadata": {},
   "outputs": [
    {
     "data": {
      "text/html": [
       "<table border=\"1\" class=\"dataframe\">\n",
       "  <thead>\n",
       "    <tr style=\"text-align: right;\">\n",
       "      <th></th>\n",
       "      <th>model</th>\n",
       "      <th>mem_allocation</th>\n",
       "      <th>num_params</th>\n",
       "      <th>score</th>\n",
       "    </tr>\n",
       "  </thead>\n",
       "  <tbody>\n",
       "    <tr>\n",
       "      <th>0</th>\n",
       "      <td>OctreeNCA</td>\n",
       "      <td>2.25</td>\n",
       "      <td>15520</td>\n",
       "      <td>86.31</td>\n",
       "    </tr>\n",
       "    <tr>\n",
       "      <th>1</th>\n",
       "      <td>Med-NCA</td>\n",
       "      <td>6.87</td>\n",
       "      <td>7488</td>\n",
       "      <td>84.41</td>\n",
       "    </tr>\n",
       "    <tr>\n",
       "      <th>2</th>\n",
       "      <td>UNet</td>\n",
       "      <td>5.49</td>\n",
       "      <td>36951425</td>\n",
       "      <td>82.79</td>\n",
       "    </tr>\n",
       "    <tr>\n",
       "      <th>3</th>\n",
       "      <td>Efficientnet</td>\n",
       "      <td>2.68</td>\n",
       "      <td>6251469</td>\n",
       "      <td>88.15</td>\n",
       "    </tr>\n",
       "    <tr>\n",
       "      <th>4</th>\n",
       "      <td>Mobilenetv2</td>\n",
       "      <td>2.47</td>\n",
       "      <td>6628945</td>\n",
       "      <td>88.20</td>\n",
       "    </tr>\n",
       "    <tr>\n",
       "      <th>5</th>\n",
       "      <td>Resnet18</td>\n",
       "      <td>1.56</td>\n",
       "      <td>14328209</td>\n",
       "      <td>88.00</td>\n",
       "    </tr>\n",
       "    <tr>\n",
       "      <th>6</th>\n",
       "      <td>VGG11</td>\n",
       "      <td>2.50</td>\n",
       "      <td>18254033</td>\n",
       "      <td>87.66</td>\n",
       "    </tr>\n",
       "    <tr>\n",
       "      <th>7</th>\n",
       "      <td>UNet++</td>\n",
       "      <td>3.86</td>\n",
       "      <td>26078609</td>\n",
       "      <td>88.23</td>\n",
       "    </tr>\n",
       "    <tr>\n",
       "      <th>8</th>\n",
       "      <td>SegFormer</td>\n",
       "      <td>0.50</td>\n",
       "      <td>3714658</td>\n",
       "      <td>86.31</td>\n",
       "    </tr>\n",
       "    <tr>\n",
       "      <th>9</th>\n",
       "      <td>SAM</td>\n",
       "      <td>NaN</td>\n",
       "      <td>641090608</td>\n",
       "      <td>41.12</td>\n",
       "    </tr>\n",
       "  </tbody>\n",
       "</table>"
      ],
      "text/plain": [
       "<IPython.core.display.HTML object>"
      ]
     },
     "metadata": {},
     "output_type": "display_data"
    }
   ],
   "source": [
    "from IPython.display import display, HTML\n",
    "display(HTML(all_files.to_html()))"
   ]
  },
  {
   "cell_type": "code",
   "execution_count": 12,
   "metadata": {},
   "outputs": [],
   "source": [
    "#all_files.to_latex(\"tables/peso.tex\", \n",
    "#                   index=False, \n",
    "#                   float_format=\"%.2f\",\n",
    "#                   na_rep=\"-\",thousands=',')"
   ]
  },
  {
   "cell_type": "code",
   "execution_count": 13,
   "metadata": {},
   "outputs": [
    {
     "data": {
      "text/html": [
       "<style type=\"text/css\">\n",
       "</style>\n",
       "<table id=\"T_69a2c\">\n",
       "  <thead>\n",
       "    <tr>\n",
       "      <th id=\"T_69a2c_level0_col0\" class=\"col_heading level0 col0\" >model</th>\n",
       "      <th id=\"T_69a2c_level0_col1\" class=\"col_heading level0 col1\" >mem_allocation</th>\n",
       "      <th id=\"T_69a2c_level0_col2\" class=\"col_heading level0 col2\" >num_params</th>\n",
       "      <th id=\"T_69a2c_level0_col3\" class=\"col_heading level0 col3\" >score</th>\n",
       "    </tr>\n",
       "  </thead>\n",
       "  <tbody>\n",
       "    <tr>\n",
       "      <td id=\"T_69a2c_row0_col0\" class=\"data row0 col0\" >OctreeNCA</td>\n",
       "      <td id=\"T_69a2c_row0_col1\" class=\"data row0 col1\" >2.25</td>\n",
       "      <td id=\"T_69a2c_row0_col2\" class=\"data row0 col2\" >15,520</td>\n",
       "      <td id=\"T_69a2c_row0_col3\" class=\"data row0 col3\" >86.31</td>\n",
       "    </tr>\n",
       "    <tr>\n",
       "      <td id=\"T_69a2c_row1_col0\" class=\"data row1 col0\" >Med-NCA</td>\n",
       "      <td id=\"T_69a2c_row1_col1\" class=\"data row1 col1\" >6.87</td>\n",
       "      <td id=\"T_69a2c_row1_col2\" class=\"data row1 col2\" >7,488</td>\n",
       "      <td id=\"T_69a2c_row1_col3\" class=\"data row1 col3\" >84.41</td>\n",
       "    </tr>\n",
       "    <tr>\n",
       "      <td id=\"T_69a2c_row2_col0\" class=\"data row2 col0\" >UNet</td>\n",
       "      <td id=\"T_69a2c_row2_col1\" class=\"data row2 col1\" >5.49</td>\n",
       "      <td id=\"T_69a2c_row2_col2\" class=\"data row2 col2\" >36,951,425</td>\n",
       "      <td id=\"T_69a2c_row2_col3\" class=\"data row2 col3\" >82.79</td>\n",
       "    </tr>\n",
       "    <tr>\n",
       "      <td id=\"T_69a2c_row3_col0\" class=\"data row3 col0\" >Efficientnet</td>\n",
       "      <td id=\"T_69a2c_row3_col1\" class=\"data row3 col1\" >2.68</td>\n",
       "      <td id=\"T_69a2c_row3_col2\" class=\"data row3 col2\" >6,251,469</td>\n",
       "      <td id=\"T_69a2c_row3_col3\" class=\"data row3 col3\" >88.15</td>\n",
       "    </tr>\n",
       "    <tr>\n",
       "      <td id=\"T_69a2c_row4_col0\" class=\"data row4 col0\" >Mobilenetv2</td>\n",
       "      <td id=\"T_69a2c_row4_col1\" class=\"data row4 col1\" >2.47</td>\n",
       "      <td id=\"T_69a2c_row4_col2\" class=\"data row4 col2\" >6,628,945</td>\n",
       "      <td id=\"T_69a2c_row4_col3\" class=\"data row4 col3\" >88.20</td>\n",
       "    </tr>\n",
       "    <tr>\n",
       "      <td id=\"T_69a2c_row5_col0\" class=\"data row5 col0\" >Resnet18</td>\n",
       "      <td id=\"T_69a2c_row5_col1\" class=\"data row5 col1\" >1.56</td>\n",
       "      <td id=\"T_69a2c_row5_col2\" class=\"data row5 col2\" >14,328,209</td>\n",
       "      <td id=\"T_69a2c_row5_col3\" class=\"data row5 col3\" >88.00</td>\n",
       "    </tr>\n",
       "    <tr>\n",
       "      <td id=\"T_69a2c_row6_col0\" class=\"data row6 col0\" >VGG11</td>\n",
       "      <td id=\"T_69a2c_row6_col1\" class=\"data row6 col1\" >2.50</td>\n",
       "      <td id=\"T_69a2c_row6_col2\" class=\"data row6 col2\" >18,254,033</td>\n",
       "      <td id=\"T_69a2c_row6_col3\" class=\"data row6 col3\" >87.66</td>\n",
       "    </tr>\n",
       "    <tr>\n",
       "      <td id=\"T_69a2c_row7_col0\" class=\"data row7 col0\" >UNet++</td>\n",
       "      <td id=\"T_69a2c_row7_col1\" class=\"data row7 col1\" >3.86</td>\n",
       "      <td id=\"T_69a2c_row7_col2\" class=\"data row7 col2\" >26,078,609</td>\n",
       "      <td id=\"T_69a2c_row7_col3\" class=\"data row7 col3\" >88.23</td>\n",
       "    </tr>\n",
       "    <tr>\n",
       "      <td id=\"T_69a2c_row8_col0\" class=\"data row8 col0\" >SegFormer</td>\n",
       "      <td id=\"T_69a2c_row8_col1\" class=\"data row8 col1\" >0.50</td>\n",
       "      <td id=\"T_69a2c_row8_col2\" class=\"data row8 col2\" >3,714,658</td>\n",
       "      <td id=\"T_69a2c_row8_col3\" class=\"data row8 col3\" >86.31</td>\n",
       "    </tr>\n",
       "    <tr>\n",
       "      <td id=\"T_69a2c_row9_col0\" class=\"data row9 col0\" >SAM</td>\n",
       "      <td id=\"T_69a2c_row9_col1\" class=\"data row9 col1\" >-</td>\n",
       "      <td id=\"T_69a2c_row9_col2\" class=\"data row9 col2\" >641,090,608</td>\n",
       "      <td id=\"T_69a2c_row9_col3\" class=\"data row9 col3\" >41.12</td>\n",
       "    </tr>\n",
       "  </tbody>\n",
       "</table>\n"
      ],
      "text/plain": [
       "<pandas.io.formats.style.Styler at 0x7bd1b7da2980>"
      ]
     },
     "execution_count": 13,
     "metadata": {},
     "output_type": "execute_result"
    }
   ],
   "source": [
    "all_files_styled = all_files.style.format(thousands=',', na_rep=\"-\", precision=2)\n",
    "all_files_styled.hide(axis=\"index\")"
   ]
  },
  {
   "cell_type": "code",
   "execution_count": 14,
   "metadata": {},
   "outputs": [],
   "source": [
    "all_files_styled.to_latex(\"tables/peso.tex\")"
   ]
  }
 ],
 "metadata": {
  "kernelspec": {
   "display_name": "Python 3",
   "language": "python",
   "name": "python3"
  },
  "language_info": {
   "codemirror_mode": {
    "name": "ipython",
    "version": 3
   },
   "file_extension": ".py",
   "mimetype": "text/x-python",
   "name": "python",
   "nbconvert_exporter": "python",
   "pygments_lexer": "ipython3",
   "version": "3.10.14"
  }
 },
 "nbformat": 4,
 "nbformat_minor": 2
}
