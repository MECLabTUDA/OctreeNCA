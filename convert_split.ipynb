{
 "cells": [
  {
   "cell_type": "code",
   "execution_count": null,
   "metadata": {},
   "outputs": [],
   "source": [
    "import pickle as pkl\n",
    "from src.datasets.Nii_Gz_Dataset_3D import Dataset_NiiGz_3D\n",
    "from src.utils.Experiment import DataSplit\n",
    "\n",
    "PROSTATE_49_SPLIT_FILE = r\"<path>/Experiments/cholec_seg_5_OctreeNCA3D/data_split.pkl\"\n",
    "PROSTATE_49_SPLIT = pkl.load(open(PROSTATE_49_SPLIT_FILE, \"rb\"))"
   ]
  },
  {
   "cell_type": "code",
   "execution_count": null,
   "metadata": {},
   "outputs": [],
   "source": [
    "PROSTATE_49_SPLIT"
   ]
  },
  {
   "cell_type": "code",
   "execution_count": null,
   "metadata": {},
   "outputs": [],
   "source": [
    "out_split = {}\n",
    "for split in ['train', 'val', 'test']:\n",
    "    out_split[split] = []\n",
    "    for item in PROSTATE_49_SPLIT['images'][split].keys():\n",
    "        out_split[split].append(item)"
   ]
  },
  {
   "cell_type": "code",
   "execution_count": null,
   "metadata": {},
   "outputs": [],
   "source": [
    "out_split"
   ]
  },
  {
   "cell_type": "code",
   "execution_count": null,
   "metadata": {},
   "outputs": [],
   "source": [
    "pkl.dump(out_split, open(\"<path>/cholec_split.pkl\", \"wb\"))"
   ]
  }
 ],
 "metadata": {
  "kernelspec": {
   "display_name": "Python 3",
   "language": "python",
   "name": "python3"
  },
  "language_info": {
   "codemirror_mode": {
    "name": "ipython",
    "version": 3
   },
   "file_extension": ".py",
   "mimetype": "text/x-python",
   "name": "python",
   "nbconvert_exporter": "python",
   "pygments_lexer": "ipython3",
   "version": "3.10.14"
  }
 },
 "nbformat": 4,
 "nbformat_minor": 2
}
