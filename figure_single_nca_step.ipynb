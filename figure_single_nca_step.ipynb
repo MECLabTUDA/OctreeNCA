{
 "cells": [
  {
   "cell_type": "code",
   "execution_count": null,
   "metadata": {},
   "outputs": [],
   "source": [
    "from src.datasets.Dataset_PESO import Dataset_PESO\n",
    "from src.utils.Study import Study\n",
    "from src.utils.ProjectConfiguration import ProjectConfiguration\n",
    "from src.utils.BaselineConfigs import EXP_OctreeNCA\n",
    "from src.datasets.Dataset_BCSS_Seg import Dataset_BCSS_Seg\n",
    "from src.datasets.Dataset_AGGC import Dataset_AGGC\n",
    "import octree_vis, torch, os, json, openslide, math\n",
    "import einops\n",
    "from src.models.Model_OctreeNCAV2 import OctreeNCAV2\n",
    "import numpy as np\n",
    "import torch.nn.functional as F\n",
    "from src.utils.ProjectConfiguration import ProjectConfiguration as pc\n",
    "from src.models.Model_OctreeNCA_2d_patching2 import OctreeNCA2DPatch2\n",
    "import matplotlib.pyplot as plt\n",
    "import time\n",
    "import nca_cuda\n",
    "torch.set_grad_enabled(False)"
   ]
  },
  {
   "cell_type": "code",
   "execution_count": null,
   "metadata": {},
   "outputs": [],
   "source": [
    "model_path = \"<path>/Experiments/pesofFixAbl_none_10_1.0_16_3_1.0_0.99_OctreeNCA2DSegmentation\"\n",
    "with open(os.path.join(model_path, \"config.json\")) as f:\n",
    "    config = json.load(f) \n",
    "\n",
    "exp = EXP_OctreeNCA().createExperiment(config, detail_config={}, \n",
    "                                                      dataset_class=Dataset_PESO, dataset_args={\n",
    "                                                            'patches_path': os.path.join(pc.FILER_BASE_PATH, config['experiment.dataset.patches_path']),\n",
    "                                                            'patch_size': config['experiment.dataset.input_size'],\n",
    "                                                            'path': os.path.join(pc.FILER_BASE_PATH, config['experiment.dataset.img_path']),\n",
    "                                                            'img_level': config['experiment.dataset.img_level']\n",
    "                                                      })\n",
    "\n",
    "model: OctreeNCA2DPatch2 = exp.model\n",
    "assert isinstance(model, OctreeNCA2DPatch2)\n",
    "model.eval()"
   ]
  },
  {
   "cell_type": "code",
   "execution_count": null,
   "metadata": {},
   "outputs": [],
   "source": [
    "torch.cuda.memory._record_memory_history()\n",
    "state = torch.zeros(1, 16, 320,320, device='cuda')\n",
    "\n",
    "bb = model.backbone_ncas[0]\n",
    "const_inputs = state[:,0:bb.input_channels].clone()\n",
    "# state.shape: BCHW\n",
    "delta_state = bb.conv(state)\n",
    "delta_state = torch.cat([state, delta_state], dim=1)\n",
    "delta_state = bb.fc0(delta_state)\n",
    "delta_state = bb.bn(delta_state)\n",
    "delta_state = F.relu(delta_state)\n",
    "delta_state = bb.fc1(delta_state)\n",
    "\n",
    "with torch.no_grad():\n",
    "    stochastic = torch.zeros([delta_state.size(0),1,delta_state.size(2),\n",
    "                            delta_state.size(3)], device=delta_state.device)\n",
    "    stochastic.bernoulli_(p=0.5).float()\n",
    "delta_state = delta_state * stochastic\n",
    "\n",
    "new_state = state[:, bb.input_channels:] + delta_state\n",
    "state = torch.cat([const_inputs, new_state], dim=1)\n",
    "torch.cuda.memory._dump_snapshot(\"mem_snapshots/traditional_single_step.pickle\")"
   ]
  },
  {
   "cell_type": "code",
   "execution_count": null,
   "metadata": {},
   "outputs": [],
   "source": [
    "torch.cuda.memory._record_memory_history()\n",
    "state = torch.zeros(1, 16, 320,320, device='cuda')\n",
    "\n",
    "state = state.contiguous()\n",
    "\n",
    "new_state = torch.zeros(state.size(0), state.size(1), state.size(2), state.size(3), device=state.device)\n",
    "new_state[:, 0].bernoulli_(0.5)\n",
    "nca_cuda.nca2d_cuda(new_state, state, model.backbone_ncas[0].conv.weight, model.backbone_ncas[0].conv.bias, model.backbone_ncas[0].fc0.weight, model.backbone_ncas[0].fc0.bias, model.backbone_ncas[0].fc1.weight)\n",
    "#del state\n",
    "state = new_state\n",
    "torch.cuda.memory._dump_snapshot(\"mem_snapshots/cuda_single_step.pickle\")"
   ]
  }
 ],
 "metadata": {
  "kernelspec": {
   "display_name": "Python 3",
   "language": "python",
   "name": "python3"
  },
  "language_info": {
   "codemirror_mode": {
    "name": "ipython",
    "version": 3
   },
   "file_extension": ".py",
   "mimetype": "text/x-python",
   "name": "python",
   "nbconvert_exporter": "python",
   "pygments_lexer": "ipython3",
   "version": "3.10.14"
  }
 },
 "nbformat": 4,
 "nbformat_minor": 2
}
