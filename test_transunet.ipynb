{
 "cells": [
  {
   "cell_type": "code",
   "execution_count": 1,
   "metadata": {},
   "outputs": [
    {
     "name": "stderr",
     "output_type": "stream",
     "text": [
      "/home/nlemke/remote/miniconda3/envs/nca3/lib/python3.10/site-packages/tqdm/auto.py:21: TqdmWarning: IProgress not found. Please update jupyter and ipywidgets. See https://ipywidgets.readthedocs.io/en/stable/user_install.html\n",
      "  from .autonotebook import tqdm as notebook_tqdm\n",
      "/home/nlemke/remote/miniconda3/envs/nca3/lib/python3.10/site-packages/transformers/utils/generic.py:441: FutureWarning: `torch.utils._pytree._register_pytree_node` is deprecated. Please use `torch.utils._pytree.register_pytree_node` instead.\n",
      "  _torch_pytree._register_pytree_node(\n",
      "/home/nlemke/remote/miniconda3/envs/nca3/lib/python3.10/site-packages/transformers/utils/generic.py:309: FutureWarning: `torch.utils._pytree._register_pytree_node` is deprecated. Please use `torch.utils._pytree.register_pytree_node` instead.\n",
      "  _torch_pytree._register_pytree_node(\n"
     ]
    },
    {
     "data": {
      "text/plain": [
       "<torch.autograd.grad_mode.set_grad_enabled at 0x77a7b0ff3dc0>"
      ]
     },
     "execution_count": 1,
     "metadata": {},
     "output_type": "execute_result"
    }
   ],
   "source": [
    "from transformers import SegformerModel, SegformerConfig, SegformerForSemanticSegmentation\n",
    "import torch, json\n",
    "\n",
    "torch.set_grad_enabled(False)"
   ]
  },
  {
   "cell_type": "code",
   "execution_count": 2,
   "metadata": {},
   "outputs": [],
   "source": [
    "from src.models.Model_TransUNet import TransUNet\n",
    "from src.models.vit_seg_modeling import CONFIGS as CONFIGS_ViT_seg\n",
    "\n",
    "def create_model(ssize):\n",
    "    vit_name = 'R50-ViT-B_16'\n",
    "    config_vit = CONFIGS_ViT_seg[vit_name]\n",
    "    config_vit.n_classes = 1\n",
    "    config_vit.n_skip = 3\n",
    "    img_size = ssize\n",
    "    vit_patches_size = 16\n",
    "    if vit_name.find('R50') != -1:\n",
    "        config_vit.patches.grid = (int(img_size / vit_patches_size), int(img_size / vit_patches_size))\n",
    "    model = TransUNet(config_vit, img_size=img_size, num_classes=config_vit.n_classes).cuda()\n",
    "    return model"
   ]
  },
  {
   "cell_type": "code",
   "execution_count": 3,
   "metadata": {},
   "outputs": [],
   "source": [
    "def measure_vram(ssize):\n",
    "    torch.cuda.empty_cache()\n",
    "    torch.cuda.reset_peak_memory_stats(\"cuda\")\n",
    "    model = create_model(ssize)\n",
    "    model(torch.rand(size=(1, 3, ssize, ssize), device='cuda'))\n",
    "    mem_allocation = torch.cuda.max_memory_allocated(\"cuda\")\n",
    "    mem_allocation_mb = mem_allocation/ 1024**2\n",
    "    print(\"Max VRAM:\", mem_allocation_mb, \"MB\")\n",
    "    return mem_allocation_mb"
   ]
  },
  {
   "cell_type": "code",
   "execution_count": 6,
   "metadata": {},
   "outputs": [
    {
     "name": "stdout",
     "output_type": "stream",
     "text": [
      "Max VRAM: 22310.40625 MB\n",
      "Max VRAM: 22310.40625 MB\n",
      "Max VRAM: 22310.40625 MB\n",
      "Max VRAM: 6528.34375 MB\n",
      "Max VRAM: 6528.34375 MB\n",
      "Max VRAM: 6528.34375 MB\n",
      "Max VRAM: 2688.28125 MB\n",
      "Max VRAM: 2688.28125 MB\n",
      "Max VRAM: 2688.28125 MB\n",
      "Max VRAM: 2418.97119140625 MB\n",
      "Max VRAM: 2418.97119140625 MB\n",
      "Max VRAM: 2418.97119140625 MB\n"
     ]
    }
   ],
   "source": [
    "num_pixel_to_measurements = {}\n",
    "for mult in [20, 40, 80, 120][::-1]:\n",
    "    size = mult*16\n",
    "    num_pixel = size * size\n",
    "    num_pixel_to_measurements[num_pixel] = []\n",
    "    for _ in range(3):\n",
    "        num_pixel_to_measurements[num_pixel].append(measure_vram(size))\n",
    "\n",
    "json.dump(num_pixel_to_measurements, open(\"test_transunet.json\", \"w\"), indent=4)\n"
   ]
  },
  {
   "cell_type": "code",
   "execution_count": 8,
   "metadata": {},
   "outputs": [
    {
     "name": "stdout",
     "output_type": "stream",
     "text": [
      "Number of parameters: 105432593\n"
     ]
    }
   ],
   "source": [
    "\n",
    "model = create_model(320)\n",
    "num_parameters = sum(p.numel() for p in model.parameters())\n",
    "print(\"Number of parameters:\", num_parameters)"
   ]
  }
 ],
 "metadata": {
  "kernelspec": {
   "display_name": "Python 3",
   "language": "python",
   "name": "python3"
  },
  "language_info": {
   "codemirror_mode": {
    "name": "ipython",
    "version": 3
   },
   "file_extension": ".py",
   "mimetype": "text/x-python",
   "name": "python",
   "nbconvert_exporter": "python",
   "pygments_lexer": "ipython3",
   "version": "3.10.14"
  }
 },
 "nbformat": 4,
 "nbformat_minor": 2
}
