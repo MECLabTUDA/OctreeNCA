{
 "cells": [
  {
   "cell_type": "code",
   "execution_count": 3,
   "metadata": {},
   "outputs": [],
   "source": [
    "import matplotlib.pyplot as plt\n",
    "from aim import Run\n",
    "import os\n",
    "from src.utils.ProjectConfiguration import ProjectConfiguration as pc\n",
    "from aim.storage.context import Context\n",
    "import pandas as pd\n",
    "import seaborn as sns\n",
    "import json, numpy as np\n",
    "import colormaps as cmaps"
   ]
  },
  {
   "cell_type": "code",
   "execution_count": null,
   "metadata": {},
   "outputs": [],
   "source": [
    "models = [\n",
    "    (\"<path>/Experiments/cholecfFixAbl_none_10_1.0_16_1_1.0_0.99_OctreeNCASegmentation\", \"OctreeNCA\"),\n",
    "    (\"<path>/Experiments/cholec_unet_UNetSegmentation/\", \"UNet\"),\n",
    "    (\"<path>/Experiments/cholec_munet3d_UNet_resnet18_0_minUNet3DSegmentation/\", \"Resnet18\"),\n",
    "    (\"<path>/Experiments/cholec_munet3d_UNet_densenet121_0_minUNet3DSegmentation/\", \"Densenet\"),\n",
    "    (\"<path>/Experiments/cholec_M3dSegmentation/\", \"M3D-NCA\"),\n",
    "    (\"<path>/Experiments/cholec_M3dSegmentation/\", \"gt\"),\n",
    "]"
   ]
  },
  {
   "cell_type": "code",
   "execution_count": null,
   "metadata": {},
   "outputs": [],
   "source": [
    "test_cases = [\n",
    "\"video01_00080\",\n",
    "\"video01_00160\",\n",
    "\"video01_00240\",\n",
    "\"video01_00400\",\n",
    "\"video01_14859\",\n",
    "\"video01_14939\",\n",
    "\"video01_15019\",\n",
    "\"video01_15099\",\n",
    "\"video01_16345\",\n",
    "\"video01_16425\",\n",
    "\"video01_16585\",\n",
    "\"video01_28580\",\n",
    "\"video01_28660\",\n",
    "\"video01_28740\",\n",
    "\"video01_28820\",\n",
    "\"video01_28900\",\n",
    "\"video12_15750\",\n",
    "\"video12_15830\",\n",
    "\"video12_19500\",\n",
    "\"video12_19580\",\n",
    "\"video12_19660\",\n",
    "\"video12_19740\",\n",
    "\"video12_19900\",\n",
    "\"video12_19980\",\n",
    "\"video17_01563\",\n",
    "\"video17_01643\",\n",
    "\"video17_01803\",\n",
    "\"video17_01963\",\n",
    "\"video27_00160\",\n",
    "\"video27_00240\",\n",
    "\"video27_00400\",\n",
    "\"video27_00480\",\n",
    "\"video27_00640\",\n",
    "\"video52_00000\",\n",
    "\"video52_00080\",\n",
    "\"video52_00160\",\n",
    "\"video52_00240\",\n",
    "\"video52_00320\",\n",
    "\"video52_00400\",\n",
    "\"video52_00480\",\n",
    "\"video52_02746\",\n",
    "\"video52_02826\",\n",
    "\"video52_02906\"]"
   ]
  },
  {
   "cell_type": "code",
   "execution_count": null,
   "metadata": {},
   "outputs": [],
   "source": [
    "def get_image(path, sample, gt=False):\n",
    "    config = json.load(open(os.path.join(path, \"config.json\"), \"r\"))\n",
    "    run_hash = config[\"experiment.run_hash\"]\n",
    "    exp_name = config[\"experiment.name\"]\n",
    "    run = Run(run_hash=run_hash, \n",
    "                    experiment=exp_name, repo=os.path.join(pc.FILER_BASE_PATH, pc.STUDY_PATH, 'Aim'),\n",
    "                    read_only=True)\n",
    "    idx, imgs = run.get_image_sequence(f\"test/img/{sample}\", Context({})).data.items_list()\n",
    "    arr = np.array(imgs[0][-1].to_pil_image())\n",
    "    WIDTH = arr.shape[1] // 3\n",
    "    img = arr[:,:WIDTH]\n",
    "    if gt:\n",
    "        seg = arr[:, 2*WIDTH:3*WIDTH]\n",
    "    else:\n",
    "        seg = arr[:, WIDTH:2*WIDTH]\n",
    "    alpha = np.zeros((img.shape[0], img.shape[1], 4))\n",
    "    alpha[:,:,:3] = seg\n",
    "    alpha[:,:,3] = (seg[:,:,0] != 0).astype(np.uint8) * 125\n",
    "    alpha = alpha.astype(np.uint8)\n",
    "    return img, alpha"
   ]
  },
  {
   "cell_type": "code",
   "execution_count": null,
   "metadata": {},
   "outputs": [],
   "source": [
    "for path, name in models:\n",
    "    for case in test_cases:\n",
    "        if name == \"gt\":\n",
    "            img, alpha = get_image(path, case, gt=True)\n",
    "        else:\n",
    "            img, alpha = get_image(path, case, gt=False)\n",
    "        plt.clf()\n",
    "        plt.imshow(img)\n",
    "        plt.imshow(alpha)\n",
    "        plt.axis('off')\n",
    "        plt.savefig(f\"figures/qualitative/cholec/{name}_{case}_pred.png\", bbox_inches='tight', pad_inches=0)"
   ]
  },
  {
   "cell_type": "code",
   "execution_count": null,
   "metadata": {},
   "outputs": [],
   "source": [
    "import matplotlib.pyplot as plt\n",
    "\n",
    "# Colors and labels for the legend\n",
    "colors = [cmaps.bold[i].colors for i in range(5)]\n",
    "labels = ['Abdominal wall', 'Liver', 'Fat', 'Grasper', 'Gallbladder']\n",
    "\n",
    "# Create a figure and axis (optional for just a legend)\n",
    "fig, ax = plt.subplots()\n",
    "\n",
    "# Create legend handles with points\n",
    "handles = [plt.Line2D([0], [0], marker='o', color='w', markerfacecolor=color, markersize=10) for color in colors]\n",
    "\n",
    "# Add legend to the plot\n",
    "ax.legend(handles, labels, title=\"\", loc=\"upper left\", ncol=len(labels), handletextpad=0)\n",
    "\n",
    "# Show or save the figure\n",
    "plt.axis('off')  # Turn off axis if it's just the legend\n",
    "plt.savefig(f\"figures/qualitative/cholec/legend.pdf\", bbox_inches='tight')\n"
   ]
  }
 ],
 "metadata": {
  "kernelspec": {
   "display_name": "Python 3",
   "language": "python",
   "name": "python3"
  },
  "language_info": {
   "codemirror_mode": {
    "name": "ipython",
    "version": 3
   },
   "file_extension": ".py",
   "mimetype": "text/x-python",
   "name": "python",
   "nbconvert_exporter": "python",
   "pygments_lexer": "ipython3",
   "version": "3.10.14"
  }
 },
 "nbformat": 4,
 "nbformat_minor": 2
}
