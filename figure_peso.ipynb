{
 "cells": [
  {
   "cell_type": "code",
   "execution_count": null,
   "metadata": {},
   "outputs": [],
   "source": [
    "import numpy as np\n",
    "import pandas as pd\n",
    "import seaborn as sns\n",
    "import matplotlib.pyplot as plt\n",
    "import json, math"
   ]
  },
  {
   "cell_type": "code",
   "execution_count": null,
   "metadata": {},
   "outputs": [],
   "source": [
    "models = [\n",
    "    (\"<path>/Experiments/peso_med_OctreeNCA2DSegmentation/\", \"Med-NCA\"),\n",
    "    (\"<path>/Experiments/pesofFixAbl_none_10_1.0_16_3_1.0_0.99_OctreeNCA2DSegmentation/\", \"OctreeNCA\"),\n",
    "    (\"<path>/Experiments/peso_UNet_efficientnet-b0_0_MinUNet2DSegmentation/\", \"Efficientnet\"),\n",
    "    (\"<path>/Experiments/peso_UNet_mobilenet_v2_0_MinUNet2DSegmentation/\", \"Mobilenetv2\"),\n",
    "    (\"<path>/Experiments/peso_UNet_resnet18_0_MinUNet2DSegmentation/\", \"Resnet18\"),\n",
    "    (\"<path>/Experiments/peso_UNet_vgg11_0_MinUNet2DSegmentation/\", \"VGG11\"),\n",
    "    (\"<path>/Experiments/peso_UnetPlusPlus_resnet34_0_MinUNet2DSegmentation/\", \"UNet++\"),\n",
    "    (\"<path>/Experiments/peso_unet_UNet2DSegmentation/\", \"UNet\"),\n",
    "    (\"<path>/Experiments/peso_vit_SegFomer2DSegmentation/\", \"SegFormer\"),\n",
    "]"
   ]
  },
  {
   "cell_type": "code",
   "execution_count": null,
   "metadata": {},
   "outputs": [],
   "source": [
    "annnotation_list = []\n",
    "annotation_dict = {}\n",
    "all_files = []\n",
    "for i, (model, model_name) in enumerate(models):\n",
    "    score = pd.read_csv(f\"{model}/eval/standard.csv\", sep='\\t').loc[:, \"PatchwiseDiceScore/0\"] * 100\n",
    "\n",
    "    score_std = score.std()\n",
    "    score = score.mean()\n",
    "\n",
    "    mem_allocation = json.load(open(f\"{model}/mem_allocation.json\"))[\"byte\"]\n",
    "    num_params = json.load(open(f\"{model}/num_params.json\"))[\"num_params\"]\n",
    "\n",
    "    eval_file = {}\n",
    "\n",
    "    eval_file[\"model\"] = model\n",
    "    eval_file[\"mem_allocation\"] = mem_allocation\n",
    "    eval_file[\"num_params\"] = num_params\n",
    "    eval_file[\"score\"] = score\n",
    "    eval_file[\"score_std\"] = score_std\n",
    "    df = pd.DataFrame(index=[i], data=eval_file)\n",
    "    all_files.append(df)\n",
    "    annnotation_list.append((num_params, score, model_name))\n",
    "    annotation_dict[model_name] = (num_params, score)\n",
    "\n",
    "all_files = pd.concat(all_files)"
   ]
  },
  {
   "cell_type": "code",
   "execution_count": null,
   "metadata": {},
   "outputs": [],
   "source": [
    "from IPython.display import display, HTML\n",
    "display(HTML(all_files.to_html()))"
   ]
  },
  {
   "cell_type": "code",
   "execution_count": null,
   "metadata": {},
   "outputs": [],
   "source": [
    "sam_performance = pd.read_csv(\"<path>/Experiments/peso_sam_Sam2DSegmentation/eval/standard.csv\", sep='\\t').loc[:, \"PatchwiseDiceScore/0\"] * 100\n",
    "sam_performance = sam_performance.mean()\n",
    "\n",
    "sam_num_params = json.load(open(\"<path>/Experiments/peso_sam_Sam2DSegmentation/num_params.json\"))[\"num_params\"]\n",
    "annotation_dict[\"SAM\"] = (sam_num_params, sam_performance)"
   ]
  },
  {
   "cell_type": "code",
   "execution_count": null,
   "metadata": {},
   "outputs": [],
   "source": [
    "sns.set_theme()\n",
    "ax = sns.scatterplot(data=all_files, x=\"num_params\", y=\"score\", hue=\"mem_allocation\", size=\"mem_allocation\",legend=False, sizes=(20, 500))\n",
    "#ax.annotate('SAM', (sam_num_params, sam_performance), textcoords=\"offset points\", xytext=(0,10), ha='center')\n",
    "scatter = ax.scatter(sam_num_params, sam_performance, color='green', marker='*', s=375, edgecolor='white', linewidth=1.25)\n",
    "for x,y,txt in annnotation_list:\n",
    "    #ax.annotate(txt, (x,y), textcoords=\"offset points\", xytext=(0,10), ha='center')\n",
    "    pass\n",
    "\n",
    "\n",
    "def my_annotate(name, xytext):\n",
    "    return ax.annotate(name, annotation_dict[name], textcoords=\"offset points\", xytext=xytext, ha='center',\n",
    "        bbox=dict(boxstyle=\"round,pad=0.3\", edgecolor=\"black\", facecolor=\"white\"),\n",
    "        arrowprops=dict(arrowstyle=\"->\", color='black'))\n",
    "    \n",
    "my_annotate(\"OctreeNCA\", (10, 20))\n",
    "my_annotate(\"Med-NCA\", (30, -30))\n",
    "my_annotate(\"UNet++\", (60, 30))\n",
    "my_annotate(\"Efficientnet\", (30, 30)).zorder = 0.9\n",
    "my_annotate(\"UNet\", (40, -20))\n",
    "my_annotate(\"VGG11\", (10, -70))\n",
    "my_annotate(\"Mobilenetv2\", (-40, -75))\n",
    "my_annotate(\"Resnet18\", (-20, -100))\n",
    "my_annotate(\"SegFormer\", (-50, -30))\n",
    "my_annotate(\"SAM\", (-50, 30))\n",
    "\n",
    "\n",
    "plt.xscale(\"log\")\n",
    "plt.xlabel(\"Number of parameters\")\n",
    "plt.ylabel(\"Dice\")\n",
    "plt.title(\"Pathology segmentation\")\n",
    "plt.ylim(38.5, 100)\n",
    "plt.savefig(\"figures/pathology_segmentation.pdf\", bbox_inches='tight')"
   ]
  },
  {
   "cell_type": "code",
   "execution_count": null,
   "metadata": {},
   "outputs": [],
   "source": [
    "min_vram = math.floor(10 * all_files[\"mem_allocation\"].min() / 1024**3) / 10\n",
    "max_vram = math.ceil(10 * all_files[\"mem_allocation\"].max() / 1024**3) / 10\n",
    "\n",
    "\n",
    "def compute_circle_size(mem_allocation):\n",
    "    mem_allocation = mem_allocation / 1024**3\n",
    "    return 20 + 480 * (mem_allocation - min_vram) / (max_vram - min_vram)"
   ]
  },
  {
   "cell_type": "code",
   "execution_count": null,
   "metadata": {},
   "outputs": [],
   "source": [
    "all_files.loc[:, \"circle_size\"] = all_files[\"mem_allocation\"].apply(compute_circle_size)"
   ]
  },
  {
   "cell_type": "code",
   "execution_count": null,
   "metadata": {},
   "outputs": [],
   "source": [
    "sns.set_theme()\n",
    "ax = sns.scatterplot(data=all_files, x=\"num_params\", y=\"score\", hue=\"mem_allocation\", size=\"mem_allocation\",legend=False, sizes=(20, 500))\n",
    "scatter = ax.scatter(sam_num_params, sam_performance, color='green', marker='*', s=375, edgecolor='white', linewidth=1.25)\n",
    "\n",
    "\n",
    "\n",
    "def my_annotate(name, xytext):\n",
    "    return ax.annotate(name, annotation_dict[name], textcoords=\"offset points\", xytext=xytext, ha='center',\n",
    "        bbox=dict(boxstyle=\"round,pad=0.3\", edgecolor=\"black\", facecolor=\"white\"),\n",
    "        arrowprops=dict(arrowstyle=\"->\", color='black'))\n",
    "    \n",
    "my_annotate(\"OctreeNCA\", (10, 20))\n",
    "my_annotate(\"Med-NCA\", (30, -30))\n",
    "my_annotate(\"UNet++\", (60, 30))\n",
    "my_annotate(\"Efficientnet\", (30, 30)).zorder = 0.9\n",
    "my_annotate(\"UNet\", (40, -20))\n",
    "my_annotate(\"VGG11\", (10, -70))\n",
    "my_annotate(\"Mobilenetv2\", (-40, -75))\n",
    "my_annotate(\"Resnet18\", (-20, -100))\n",
    "my_annotate(\"SegFormer\", (-50, -30))\n",
    "my_annotate(\"SAM\", (-50, 30))\n",
    "\n",
    "\n",
    "size_values = [20, 500]\n",
    "size_labels = [f\"{min_vram} GiB\", f\"{max_vram} GiB\"]\n",
    "handles = [\n",
    "    plt.scatter([], [], s=size, edgecolor=\"black\", color=\"grey\", label=label)\n",
    "    for size, label in zip(size_values, size_labels)  # Adjust sizes to match your plot\n",
    "]\n",
    "# Add the custom legend\n",
    "plt.legend(\n",
    "    handles=handles,\n",
    "    title=\"Memory Allocation\",\n",
    "    labelspacing=1.2,\n",
    "    loc=\"lower left\",\n",
    "    borderpad=1.0,\n",
    "    frameon=True\n",
    ")\n",
    "\n",
    "plt.xscale(\"log\")\n",
    "plt.xlabel(\"Number of parameters\")\n",
    "plt.ylabel(\"Dice\")\n",
    "plt.title(\"Pathology segmentation\")\n",
    "plt.ylim(38.5, 100)\n",
    "plt.savefig(\"figures/pathology_segmentation.pdf\", bbox_inches='tight')"
   ]
  }
 ],
 "metadata": {
  "kernelspec": {
   "display_name": "Python 3",
   "language": "python",
   "name": "python3"
  },
  "language_info": {
   "codemirror_mode": {
    "name": "ipython",
    "version": 3
   },
   "file_extension": ".py",
   "mimetype": "text/x-python",
   "name": "python",
   "nbconvert_exporter": "python",
   "pygments_lexer": "ipython3",
   "version": "3.10.14"
  }
 },
 "nbformat": 4,
 "nbformat_minor": 2
}
