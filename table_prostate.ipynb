{
 "cells": [
  {
   "cell_type": "code",
   "execution_count": 1,
   "metadata": {},
   "outputs": [],
   "source": [
    "import numpy as np\n",
    "import pandas as pd\n",
    "import seaborn as sns\n",
    "import matplotlib.pyplot as plt\n",
    "import json, os"
   ]
  },
  {
   "cell_type": "code",
   "execution_count": null,
   "metadata": {},
   "outputs": [],
   "source": [
    "models = [\n",
    "    (\"<path>/Experiments/prostatefAbl_none_10_1.0_16_OctreeNCASegmentation/\", \"OctreeNCA\"),\n",
    "    (\"<path>/Experiments/prostate_m3d_M3dSegmentation/\", \"M3D-NCA\"),\n",
    "    (\"<path>/Experiments/prostate_unet_UNetSegmentation/\", \"UNet\"),\n",
    "    (\"<path>/Experiments/prostate_munet3d_UNet_resnet18_0_minUNet3DSegmentation/\", \"Resnet18\"),\n",
    "    (\"<path>/Experiments/prostate_munet3d_UNet_densenet121_0_minUNet3DSegmentation/\", \"Densenet\"),\n",
    "]"
   ]
  },
  {
   "cell_type": "code",
   "execution_count": 3,
   "metadata": {},
   "outputs": [],
   "source": [
    "annnotation_list = []\n",
    "annotation_dict = {}\n",
    "all_files = []\n",
    "for i, (model, model_name) in enumerate(models):\n",
    "    score = pd.read_csv(f\"{model}/eval/standard.csv\", sep='\\t').loc[:, \"DiceScore/0\"] * 100\n",
    "\n",
    "    score_std = score.std()\n",
    "    score = score.mean()\n",
    "\n",
    "    eval_file = {}\n",
    "    mem_allocation = None\n",
    "    if os.path.exists(f\"{model}/mem_allocation.json\"):\n",
    "        mem_allocation = round(json.load(open(f\"{model}/mem_allocation.json\"))[\"byte\"] / 1024**3, 2)\n",
    "    num_params = json.load(open(f\"{model}/num_params.json\"))[\"num_params\"]\n",
    "\n",
    "    eval_file[\"model\"] = model_name\n",
    "    eval_file[\"mem_allocation\"] = mem_allocation\n",
    "    eval_file[\"num_params\"] = num_params\n",
    "    eval_file[\"score\"] = round(score, 2)\n",
    "    #eval_file[\"score_std\"] = score_std\n",
    "    df = pd.DataFrame(index=[i], data=eval_file)\n",
    "    all_files.append(df)\n",
    "    annnotation_list.append((num_params, score, model_name))\n",
    "    annotation_dict[model_name] = (num_params, score)\n",
    "\n",
    "all_files = pd.concat(all_files)"
   ]
  },
  {
   "cell_type": "code",
   "execution_count": null,
   "metadata": {},
   "outputs": [],
   "source": [
    "def get_nnUNet_results(path: str, trainer: str) -> dict:\n",
    "    FOLD = 0\n",
    "    TRAIN_TASK = \"Task506_Prostate_MEDSeg_split\"\n",
    "    EVAL_TASK = \"Task508_Prostate_MEDSeg_split\" \n",
    "    #both are the same dataset. However 506 is not properly preprocessed, so it cannot be used for evaluation\n",
    "    # Later I preprocessed 508 correctly, which can also be used for evaluation. Future work should use 508 for training and evaluation\n",
    "\n",
    "    eval_path = os.path.join(path,\"evaluation\", \"nnUNet_ext\", \"3d_fullres\",\n",
    "                             TRAIN_TASK, TRAIN_TASK, f\"{trainer}__nnUNetPlansv2.1\", \n",
    "                             f\"Generic_UNet/SEQ/head_None/fold_{FOLD}\",EVAL_TASK,\n",
    "                             \"val_metrics_all.csv\")\n",
    "    results_path = os.path.join(path, \"results\", \"nnUNet_ext\", \"3d_fullres\",\n",
    "                             TRAIN_TASK, TRAIN_TASK, f\"{trainer}__nnUNetPlansv2.1\", \n",
    "                             f\"Generic_UNet/SEQ/fold_{FOLD}\")\n",
    "    results = pd.read_csv(eval_path, sep='\\t')\n",
    "    results = results[results[\"split\"] == \"test\"]\n",
    "    results = results[results[\"seg_mask\"] == \"mask_1\"]\n",
    "    results = results[results[\"metric\"] == \"Dice\"]\n",
    "\n",
    "    model_name = {\n",
    "        \"nnUNetTrainerNCA\": \"nnNCA\",\n",
    "        \"nnUNetTrainerSequential\": \"nnUNet\",\n",
    "    }\n",
    "    ret = {\n",
    "        \"model\": model_name[trainer],\n",
    "        \"mem_allocation\": round(json.load(open(os.path.join(results_path, \"mem_allocation.json\")))[\"byte\"] / 1024**3, 2),\n",
    "        \"num_params\": json.load(open(os.path.join(results_path, \"num_params.json\")))[\"num_params\"],\n",
    "        \"score\": results[\"value\"].mean() * 100,\n",
    "    }\n",
    "    return ret\n",
    "\n",
    "nnOctreeNCA = get_nnUNet_results(\"<path>/nnunet_nca\", \"nnUNetTrainerNCA\")\n",
    "nnUNet = get_nnUNet_results(\"<path>/nnunet_nca\", \"nnUNetTrainerSequential\")\n",
    "data = [nnUNet]\n",
    "df = pd.DataFrame(data=data)\n",
    "all_files = pd.concat([all_files, df])"
   ]
  },
  {
   "cell_type": "code",
   "execution_count": 5,
   "metadata": {},
   "outputs": [
    {
     "data": {
      "text/html": [
       "<table border=\"1\" class=\"dataframe\">\n",
       "  <thead>\n",
       "    <tr style=\"text-align: right;\">\n",
       "      <th></th>\n",
       "      <th>model</th>\n",
       "      <th>mem_allocation</th>\n",
       "      <th>num_params</th>\n",
       "      <th>score</th>\n",
       "    </tr>\n",
       "  </thead>\n",
       "  <tbody>\n",
       "    <tr>\n",
       "      <th>0</th>\n",
       "      <td>OctreeNCA</td>\n",
       "      <td>2.18</td>\n",
       "      <td>17600</td>\n",
       "      <td>82.510000</td>\n",
       "    </tr>\n",
       "    <tr>\n",
       "      <th>1</th>\n",
       "      <td>M3D-NCA</td>\n",
       "      <td>14.34</td>\n",
       "      <td>12480</td>\n",
       "      <td>80.520000</td>\n",
       "    </tr>\n",
       "    <tr>\n",
       "      <th>2</th>\n",
       "      <td>UNet</td>\n",
       "      <td>7.79</td>\n",
       "      <td>19071297</td>\n",
       "      <td>84.060000</td>\n",
       "    </tr>\n",
       "    <tr>\n",
       "      <th>3</th>\n",
       "      <td>Resnet18</td>\n",
       "      <td>4.30</td>\n",
       "      <td>42611121</td>\n",
       "      <td>85.620000</td>\n",
       "    </tr>\n",
       "    <tr>\n",
       "      <th>4</th>\n",
       "      <td>Densenet</td>\n",
       "      <td>6.20</td>\n",
       "      <td>31199985</td>\n",
       "      <td>84.760000</td>\n",
       "    </tr>\n",
       "    <tr>\n",
       "      <th>0</th>\n",
       "      <td>nnUNet</td>\n",
       "      <td>7.35</td>\n",
       "      <td>44797408</td>\n",
       "      <td>88.180718</td>\n",
       "    </tr>\n",
       "  </tbody>\n",
       "</table>"
      ],
      "text/plain": [
       "<IPython.core.display.HTML object>"
      ]
     },
     "metadata": {},
     "output_type": "display_data"
    }
   ],
   "source": [
    "from IPython.display import display, HTML\n",
    "display(HTML(all_files.to_html()))"
   ]
  },
  {
   "cell_type": "code",
   "execution_count": 7,
   "metadata": {},
   "outputs": [],
   "source": [
    "all_files_styled = all_files.style.format(thousands=',', na_rep=\"-\", precision=2)\n",
    "all_files_styled.hide(axis=\"index\")\n",
    "all_files_styled.to_latex(\"tables/prostate.tex\")"
   ]
  }
 ],
 "metadata": {
  "kernelspec": {
   "display_name": "Python 3",
   "language": "python",
   "name": "python3"
  },
  "language_info": {
   "codemirror_mode": {
    "name": "ipython",
    "version": 3
   },
   "file_extension": ".py",
   "mimetype": "text/x-python",
   "name": "python",
   "nbconvert_exporter": "python",
   "pygments_lexer": "ipython3",
   "version": "3.10.14"
  }
 },
 "nbformat": 4,
 "nbformat_minor": 2
}
