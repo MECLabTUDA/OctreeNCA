{
 "cells": [
  {
   "cell_type": "code",
   "execution_count": 3,
   "metadata": {},
   "outputs": [],
   "source": [
    "import cv2, os\n",
    "import numpy as np"
   ]
  },
  {
   "cell_type": "code",
   "execution_count": null,
   "metadata": {},
   "outputs": [],
   "source": [
    "INPUT_PATH = \"<path>/data/cholecseg8k/\"\n",
    "OUT_PATH = \"<path>/cholecseg8k_preprocessed_2/\""
   ]
  },
  {
   "cell_type": "code",
   "execution_count": 5,
   "metadata": {},
   "outputs": [],
   "source": [
    "color_class_mapping={\n",
    "                            #(127, 127, 127): 0,\n",
    "                            (140, 140, 210): 1,     #Abdominal wall        \n",
    "                            (114, 114, 255): 2,     #Liver                 \n",
    "                            #(156, 70, 231): 3,     #Gastrointestinal tract\n",
    "                            (75, 183, 186): 4,      #Fat                   \n",
    "                            (0, 255, 170): 5,       #Grasper               \n",
    "                            #(0, 85, 255): 6,       #Connective tissue     \n",
    "                            #(0, 0, 255): 7,        #Blood                 \n",
    "                            #(0, 255, 255): 8,      #Cystic duct           \n",
    "                            #(184, 255, 169): 9,    #L-hook electrocautery   \n",
    "                            (165, 160, 255): 10,    #Gallbladder             \n",
    "                            #(128, 50, 0): 11,      #Heptatic vein         \n",
    "                            #(0, 74, 111): 12       #Liver ligament        \n",
    "                            }\n",
    "\n",
    "color_classes = [k for k in color_class_mapping.keys()]"
   ]
  },
  {
   "cell_type": "code",
   "execution_count": 7,
   "metadata": {},
   "outputs": [
    {
     "name": "stdout",
     "output_type": "stream",
     "text": [
      "video43\n",
      "video18\n",
      "video28\n",
      "video09\n",
      "readme\n",
      "video20\n",
      "video48\n",
      "video55\n",
      "video37\n",
      "video26\n",
      "video35\n",
      "video25\n",
      "video24\n",
      "video01\n",
      "video52\n",
      "video12\n",
      "video17\n",
      "video27\n"
     ]
    }
   ],
   "source": [
    "for patient in os.listdir(INPUT_PATH):\n",
    "    print(patient)\n",
    "    if not os.path.isdir(os.path.join(INPUT_PATH, patient)):\n",
    "        continue\n",
    "    for f in os.listdir(os.path.join(INPUT_PATH, patient)):\n",
    "        first_frame = int(f[len(\"videoXX_\"):])\n",
    "        path = os.path.join(INPUT_PATH, patient, f)\n",
    "\n",
    "        imgs = []\n",
    "        lbls = []\n",
    "        for frame in range(first_frame, first_frame + 80):\n",
    "            label = cv2.imread(os.path.join(path, f\"frame_{frame}_endo_color_mask.png\"))\n",
    "            lbls.append(label)\n",
    "            image = cv2.imread(os.path.join(path, f\"frame_{frame}_endo.png\"))\n",
    "            image = cv2.cvtColor(image, cv2.COLOR_BGR2RGB)\n",
    "            imgs.append(image)\n",
    "        \n",
    "        imgs = np.array(imgs)\n",
    "        lbls = np.array(lbls)\n",
    "        \n",
    "        mean = [0.485, 0.456, 0.406]\n",
    "        std = [0.229, 0.224, 0.225]\n",
    "\n",
    "        imgs = imgs.astype(np.float32)\n",
    "        imgs /= 255.0\n",
    "\n",
    "        imgs -= mean\n",
    "        imgs /= std\n",
    "\n",
    "        imgs = imgs.transpose(3, 1, 2, 0)#DHWC -> CHWD\n",
    "        lbls = lbls.transpose(1, 2, 0, 3)#DHWC -> HWDC\n",
    "\n",
    "        new_labels = np.zeros((lbls.shape[0], lbls.shape[1], lbls.shape[2], len(color_classes)), dtype=np.uint8)\n",
    "\n",
    "\n",
    "        for i, k in enumerate(color_classes):\n",
    "            mask = np.all(lbls == k, axis=-1)\n",
    "            new_labels[mask, i] = 1\n",
    "\n",
    "        os.makedirs(os.path.join(OUT_PATH, patient, f), exist_ok=True)\n",
    "        np.save(os.path.join(OUT_PATH, patient, f, \"video.npy\"), imgs)\n",
    "        np.save(os.path.join(OUT_PATH, patient, f, \"segmentation.npy\"), new_labels)\n"
   ]
  }
 ],
 "metadata": {
  "kernelspec": {
   "display_name": "Python 3",
   "language": "python",
   "name": "python3"
  },
  "language_info": {
   "codemirror_mode": {
    "name": "ipython",
    "version": 3
   },
   "file_extension": ".py",
   "mimetype": "text/x-python",
   "name": "python",
   "nbconvert_exporter": "python",
   "pygments_lexer": "ipython3",
   "version": "3.10.14"
  }
 },
 "nbformat": 4,
 "nbformat_minor": 2
}
