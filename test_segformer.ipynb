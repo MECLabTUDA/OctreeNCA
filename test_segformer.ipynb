{
 "cells": [
  {
   "cell_type": "code",
   "execution_count": 1,
   "metadata": {},
   "outputs": [
    {
     "name": "stderr",
     "output_type": "stream",
     "text": [
      "/home/nlemke/remote/miniconda3/envs/nca3/lib/python3.10/site-packages/tqdm/auto.py:21: TqdmWarning: IProgress not found. Please update jupyter and ipywidgets. See https://ipywidgets.readthedocs.io/en/stable/user_install.html\n",
      "  from .autonotebook import tqdm as notebook_tqdm\n",
      "/home/nlemke/remote/miniconda3/envs/nca3/lib/python3.10/site-packages/transformers/utils/generic.py:441: FutureWarning: `torch.utils._pytree._register_pytree_node` is deprecated. Please use `torch.utils._pytree.register_pytree_node` instead.\n",
      "  _torch_pytree._register_pytree_node(\n",
      "/home/nlemke/remote/miniconda3/envs/nca3/lib/python3.10/site-packages/transformers/utils/generic.py:309: FutureWarning: `torch.utils._pytree._register_pytree_node` is deprecated. Please use `torch.utils._pytree.register_pytree_node` instead.\n",
      "  _torch_pytree._register_pytree_node(\n"
     ]
    },
    {
     "data": {
      "text/plain": [
       "<torch.autograd.grad_mode.set_grad_enabled at 0x7ecd18113df0>"
      ]
     },
     "execution_count": 1,
     "metadata": {},
     "output_type": "execute_result"
    }
   ],
   "source": [
    "from transformers import SegformerModel, SegformerConfig, SegformerForSemanticSegmentation\n",
    "import torch, json\n",
    "\n",
    "torch.set_grad_enabled(False)"
   ]
  },
  {
   "cell_type": "code",
   "execution_count": 2,
   "metadata": {},
   "outputs": [],
   "source": [
    "# Initializing a SegFormer nvidia/segformer-b0-finetuned-ade-512-512 style configuration\n",
    "configuration = SegformerConfig()\n",
    "\n",
    "# Initializing a model from the nvidia/segformer-b0-finetuned-ade-512-512 style configuration\n",
    "model = SegformerForSemanticSegmentation(configuration).cuda()\n",
    "\n",
    "# Accessing the model configuration\n",
    "configuration = model.config"
   ]
  },
  {
   "cell_type": "code",
   "execution_count": 5,
   "metadata": {},
   "outputs": [
    {
     "data": {
      "text/plain": [
       "torch.Size([1, 2, 39, 39])"
      ]
     },
     "execution_count": 5,
     "metadata": {},
     "output_type": "execute_result"
    }
   ],
   "source": [
    "\n",
    "out = model(torch.rand(size=(1, 3, 156, 156), device='cuda'))\n",
    "out.logits.shape"
   ]
  },
  {
   "cell_type": "code",
   "execution_count": 7,
   "metadata": {},
   "outputs": [],
   "source": [
    "def measure_vram(ssize):\n",
    "    torch.cuda.empty_cache()\n",
    "    torch.cuda.reset_peak_memory_stats(\"cuda\")\n",
    "    model(torch.rand(size=(1, 3, ssize, ssize), device='cuda'))\n",
    "    mem_allocation = torch.cuda.max_memory_allocated(\"cuda\")\n",
    "    mem_allocation_mb = mem_allocation/ 1024**2\n",
    "    print(\"Max VRAM:\", mem_allocation_mb, \"MB\")\n",
    "    return mem_allocation_mb"
   ]
  },
  {
   "cell_type": "code",
   "execution_count": 10,
   "metadata": {},
   "outputs": [
    {
     "name": "stdout",
     "output_type": "stream",
     "text": [
      "Max VRAM: 21210.04541015625 MB\n",
      "Max VRAM: 21210.04541015625 MB\n",
      "Max VRAM: 21210.04541015625 MB\n",
      "Max VRAM: 7415.83251953125 MB\n",
      "Max VRAM: 7415.83251953125 MB\n",
      "Max VRAM: 7415.83251953125 MB\n",
      "Max VRAM: 2253.03759765625 MB\n",
      "Max VRAM: 2253.03759765625 MB\n",
      "Max VRAM: 2253.03759765625 MB\n",
      "Max VRAM: 1170.44580078125 MB\n",
      "Max VRAM: 1170.44580078125 MB\n",
      "Max VRAM: 1170.44580078125 MB\n",
      "Max VRAM: 991.71728515625 MB\n",
      "Max VRAM: 991.71728515625 MB\n",
      "Max VRAM: 991.71728515625 MB\n"
     ]
    }
   ],
   "source": [
    "num_pixel_to_measurements = {}\n",
    "for mult in [20, 40, 80, 120, 160][::-1]:\n",
    "    size = mult*16\n",
    "    num_pixel = size * size\n",
    "    num_pixel_to_measurements[num_pixel] = []\n",
    "    for _ in range(3):\n",
    "        num_pixel_to_measurements[num_pixel].append(measure_vram(size))\n",
    "\n",
    "json.dump(num_pixel_to_measurements, open(\"test_segformer.json\", \"w\"), indent=4)\n"
   ]
  }
 ],
 "metadata": {
  "kernelspec": {
   "display_name": "Python 3",
   "language": "python",
   "name": "python3"
  },
  "language_info": {
   "codemirror_mode": {
    "name": "ipython",
    "version": 3
   },
   "file_extension": ".py",
   "mimetype": "text/x-python",
   "name": "python",
   "nbconvert_exporter": "python",
   "pygments_lexer": "ipython3",
   "version": "3.10.14"
  }
 },
 "nbformat": 4,
 "nbformat_minor": 2
}
