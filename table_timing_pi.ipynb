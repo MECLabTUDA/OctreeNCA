{
 "cells": [
  {
   "cell_type": "code",
   "execution_count": 21,
   "id": "d152d0e9",
   "metadata": {},
   "outputs": [],
   "source": [
    "import pandas as pd\n",
    "import json\n",
    "import numpy as np"
   ]
  },
  {
   "cell_type": "code",
   "execution_count": 22,
   "id": "aca9e92d",
   "metadata": {},
   "outputs": [],
   "source": [
    "# load json data\n",
    "with open('john_timing_results_med_pi.json', 'r') as f:\n",
    "    med_nca = json.load(f)\n",
    "with open('john_timing_results_oct_pi.json', 'r') as f:\n",
    "    oct_nca = json.load(f)\n",
    "with open('john_timing_results_unet_pi.json', 'r') as f:\n",
    "    unet = json.load(f)"
   ]
  },
  {
   "cell_type": "code",
   "execution_count": 23,
   "id": "2c3679ff",
   "metadata": {},
   "outputs": [],
   "source": [
    "for d in [med_nca, oct_nca, unet]:\n",
    "    for k in d.keys():\n",
    "        d[k] = np.mean(d[k])"
   ]
  },
  {
   "cell_type": "code",
   "execution_count": 24,
   "id": "46e202e7",
   "metadata": {},
   "outputs": [
    {
     "data": {
      "text/plain": [
       "(dict_keys(['320', '640', '960', '400', '480', '560', '800', '720', '880']),\n",
       " dict_keys(['320', '640', '960', '400', '480', '560', '800', '720', '880']),\n",
       " dict_keys(['320', '640', '400', '480', '560']))"
      ]
     },
     "execution_count": 24,
     "metadata": {},
     "output_type": "execute_result"
    }
   ],
   "source": [
    "med_nca.keys(), oct_nca.keys(), unet.keys()"
   ]
  },
  {
   "cell_type": "code",
   "execution_count": 31,
   "id": "7916fa31",
   "metadata": {},
   "outputs": [],
   "source": [
    "med_nca_df = pd.DataFrame.from_dict(med_nca, orient='index', columns=['med_nca'])\n",
    "oct_nca_df = pd.DataFrame.from_dict(oct_nca, orient='index', columns=['oct_nca'])\n",
    "unet_df = pd.DataFrame.from_dict(unet, orient='index', columns=['unet'])"
   ]
  },
  {
   "cell_type": "code",
   "execution_count": 45,
   "id": "ab142661",
   "metadata": {},
   "outputs": [],
   "source": [
    "df = pd.concat([oct_nca_df, med_nca_df, unet_df], axis=1)"
   ]
  },
  {
   "cell_type": "code",
   "execution_count": 46,
   "id": "a6b7b6c6",
   "metadata": {},
   "outputs": [],
   "source": [
    "df.sort_index(inplace=True)"
   ]
  },
  {
   "cell_type": "code",
   "execution_count": 47,
   "id": "f45cc16a",
   "metadata": {},
   "outputs": [
    {
     "name": "stdout",
     "output_type": "stream",
     "text": [
      "\\begin{tabular}{lrrrrrrrrr}\n",
      " & 320 & 400 & 480 & 560 & 640 & 720 & 800 & 880 & 960 \\\\\n",
      "oct_nca & 2.20 & 3.54 & 4.89 & 6.54 & 8.81 & 10.97 & 14.16 & 18.30 & 21.53 \\\\\n",
      "med_nca & 4.41 & 7.15 & 9.99 & 13.62 & 17.87 & 22.60 & 28.25 & 35.59 & 44.20 \\\\\n",
      "unet & 10.09 & 16.20 & 23.19 & 32.43 & 42.15 & - & - & - & - \\\\\n",
      "\\end{tabular}\n",
      "\n"
     ]
    }
   ],
   "source": [
    "df = df.transpose().style.format(na_rep='-', precision=2, thousands=',', escape=\"latex\")\n",
    "print(df.to_latex())"
   ]
  }
 ],
 "metadata": {
  "kernelspec": {
   "display_name": "nca3",
   "language": "python",
   "name": "python3"
  },
  "language_info": {
   "codemirror_mode": {
    "name": "ipython",
    "version": 3
   },
   "file_extension": ".py",
   "mimetype": "text/x-python",
   "name": "python",
   "nbconvert_exporter": "python",
   "pygments_lexer": "ipython3",
   "version": "3.10.14"
  }
 },
 "nbformat": 4,
 "nbformat_minor": 5
}
