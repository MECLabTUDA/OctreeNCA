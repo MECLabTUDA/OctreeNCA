{
 "cells": [
  {
   "cell_type": "code",
   "execution_count": null,
   "metadata": {},
   "outputs": [],
   "source": [
    "import pickle as pkl"
   ]
  },
  {
   "cell_type": "code",
   "execution_count": null,
   "metadata": {},
   "outputs": [],
   "source": [
    "FOLD = 0\n",
    "MERGE_TRAIN_VAL = True"
   ]
  },
  {
   "cell_type": "code",
   "execution_count": null,
   "metadata": {},
   "outputs": [],
   "source": [
    "in_split = pkl.load(open(\"<path>/nnUnet_preprocessed/Task506_Prostate_MEDSeg_split/splits_final.pkl\" ,\"rb\"))\n",
    "in_split = in_split[FOLD]\n",
    "out_split = {\n",
    "    'test': list(in_split['test'])\n",
    "}\n",
    "if MERGE_TRAIN_VAL:\n",
    "    out_split['val'] = []\n",
    "    out_split['train'] = list(in_split['val']) + list(in_split['train'])\n",
    "\n",
    "out_split['test'] = list(map(lambda x: f\"{x}.nii.gz\", out_split['test']))\n",
    "out_split['val'] = list(map(lambda x: f\"{x}.nii.gz\", out_split['val']))\n",
    "out_split['train'] = list(map(lambda x: f\"{x}.nii.gz\", out_split['train']))"
   ]
  },
  {
   "cell_type": "code",
   "execution_count": null,
   "metadata": {},
   "outputs": [],
   "source": [
    "out_split"
   ]
  },
  {
   "cell_type": "code",
   "execution_count": null,
   "metadata": {},
   "outputs": [],
   "source": [
    "pkl.dump(out_split, open(f\"<path>/nnunet_split_{FOLD}.pkl\", \"wb\"), protocol=pkl.HIGHEST_PROTOCOL)"
   ]
  },
  {
   "cell_type": "code",
   "execution_count": null,
   "metadata": {},
   "outputs": [],
   "source": [
    "in_split = pkl.load(open(\"<path>/nnUnet_preprocessed/Task506_Prostate_MEDSeg_split/splits_final.pkl\" ,\"rb\"))\n",
    "in_split[0]"
   ]
  }
 ],
 "metadata": {
  "kernelspec": {
   "display_name": "Python 3",
   "language": "python",
   "name": "python3"
  },
  "language_info": {
   "codemirror_mode": {
    "name": "ipython",
    "version": 3
   },
   "file_extension": ".py",
   "mimetype": "text/x-python",
   "name": "python",
   "nbconvert_exporter": "python",
   "pygments_lexer": "ipython3",
   "version": "3.10.14"
  }
 },
 "nbformat": 4,
 "nbformat_minor": 2
}
