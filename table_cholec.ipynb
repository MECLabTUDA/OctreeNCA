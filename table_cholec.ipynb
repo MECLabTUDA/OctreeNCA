{
 "cells": [
  {
   "cell_type": "code",
   "execution_count": 1,
   "metadata": {},
   "outputs": [],
   "source": [
    "import numpy as np\n",
    "import pandas as pd\n",
    "import seaborn as sns\n",
    "import matplotlib.pyplot as plt\n",
    "import json, os"
   ]
  },
  {
   "cell_type": "code",
   "execution_count": null,
   "metadata": {},
   "outputs": [],
   "source": [
    "models = [\n",
    "    (\"<path>/Experiments/cholecfFixAbl_none_10_1.0_16_1_1.0_0.99_OctreeNCASegmentation\", \"OctreeNCA\"),\n",
    "    (\"<path>/Experiments/cholec_M3dSegmentation/\", \"M3D-NCA\"),\n",
    "    (\"<path>/Experiments/cholec_unet_UNetSegmentation/\", \"UNet\"),\n",
    "    (\"<path>/Experiments/cholec_munet3d_UNet_resnet18_0_minUNet3DSegmentation/\", \"Resnet18\"),\n",
    "    (\"<path>/Experiments/cholec_munet3d_UNet_densenet121_0_minUNet3DSegmentation/\", \"Densenet\"),\n",
    "    (\"<path>/Experiments/cholec_sam2_base_plus_Sam3DSegmentation\", \"SAM2\"),\n",
    "]\n",
    "\n",
    "CLASS_NAMES = [\"Abdominal wall\", \"Liver\", \"Fat\", \"Grasper\", \"Gallbladder\"]"
   ]
  },
  {
   "cell_type": "code",
   "execution_count": null,
   "metadata": {},
   "outputs": [
    {
     "name": "stderr",
     "output_type": "stream",
     "text": [
      "/tmp/ipykernel_330848/1271043279.py:33: FutureWarning: The behavior of DataFrame concatenation with empty or all-NA entries is deprecated. In a future version, this will no longer exclude empty or all-NA columns when determining the result dtypes. To retain the old behavior, exclude the relevant entries before the concat operation.\n",
      "  all_files = pd.concat(all_files)\n"
     ]
    }
   ],
   "source": [
    "nan_template = pd.read_csv(f\"<path>/Experiments/cholec_sam_Sam3DSegmentation/eval/standard.csv\", sep='\\t')\n",
    "nan_template.set_index('Unnamed: 0', inplace=True)\n",
    "annnotation_list = []\n",
    "annotation_dict = {}\n",
    "all_files = []\n",
    "for i, (model, model_name) in enumerate(models):\n",
    "    eval_file = {}\n",
    "\n",
    "    score = pd.read_csv(f\"{model}/eval/standard.csv\", sep='\\t')\n",
    "    score.set_index('Unnamed: 0', inplace=True)\n",
    "    score[nan_template.isna()] = np.nan\n",
    "    \n",
    "\n",
    "    for c in range(5):\n",
    "        eval_file[CLASS_NAMES[c]] = round(score.loc[:, f\"DiceScore/{c}\"].mean() * 100, 2)\n",
    "        \n",
    "    score = score.loc[:, [\"DiceScore/0\", \"DiceScore/1\", \"DiceScore/2\", \"DiceScore/3\", \"DiceScore/4\"]]\n",
    "    score = score.mean(axis=1)\n",
    "    eval_file[\"mDice\"] = round(score.mean() * 100, 2)\n",
    "\n",
    "    mem_allocation = None\n",
    "    if os.path.exists(f\"{model}/mem_allocation.json\"):\n",
    "        mem_allocation = round(json.load(open(f\"{model}/mem_allocation.json\"))[\"byte\"] / 1024**3, 2)\n",
    "    num_params = json.load(open(f\"{model}/num_params.json\"))[\"num_params\"]\n",
    "\n",
    "\n",
    "    eval_file[\"model\"] = model_name\n",
    "    eval_file[\"mem_allocation\"] = mem_allocation\n",
    "    eval_file[\"num_params\"] = num_params\n",
    "    df = pd.DataFrame(index=[i], data=eval_file, columns=[\"model\", \"mem_allocation\", \"num_params\", *CLASS_NAMES, \"mDice\"])\n",
    "    all_files.append(df)\n",
    "\n",
    "all_files = pd.concat(all_files)"
   ]
  },
  {
   "cell_type": "code",
   "execution_count": 4,
   "metadata": {},
   "outputs": [
    {
     "data": {
      "text/html": [
       "<table border=\"1\" class=\"dataframe\">\n",
       "  <thead>\n",
       "    <tr style=\"text-align: right;\">\n",
       "      <th></th>\n",
       "      <th>model</th>\n",
       "      <th>mem_allocation</th>\n",
       "      <th>num_params</th>\n",
       "      <th>Abdominal wall</th>\n",
       "      <th>Liver</th>\n",
       "      <th>Fat</th>\n",
       "      <th>Grasper</th>\n",
       "      <th>Gallbladder</th>\n",
       "      <th>mDice</th>\n",
       "    </tr>\n",
       "  </thead>\n",
       "  <tbody>\n",
       "    <tr>\n",
       "      <th>0</th>\n",
       "      <td>OctreeNCA</td>\n",
       "      <td>2.41</td>\n",
       "      <td>16960</td>\n",
       "      <td>70.62</td>\n",
       "      <td>76.92</td>\n",
       "      <td>74.64</td>\n",
       "      <td>46.23</td>\n",
       "      <td>56.68</td>\n",
       "      <td>64.01</td>\n",
       "    </tr>\n",
       "    <tr>\n",
       "      <th>1</th>\n",
       "      <td>M3D-NCA</td>\n",
       "      <td>13.33</td>\n",
       "      <td>12480</td>\n",
       "      <td>71.85</td>\n",
       "      <td>74.12</td>\n",
       "      <td>77.78</td>\n",
       "      <td>45.64</td>\n",
       "      <td>54.41</td>\n",
       "      <td>64.03</td>\n",
       "    </tr>\n",
       "    <tr>\n",
       "      <th>2</th>\n",
       "      <td>UNet</td>\n",
       "      <td>13.96</td>\n",
       "      <td>19073285</td>\n",
       "      <td>59.22</td>\n",
       "      <td>58.97</td>\n",
       "      <td>66.47</td>\n",
       "      <td>45.07</td>\n",
       "      <td>41.82</td>\n",
       "      <td>53.13</td>\n",
       "    </tr>\n",
       "    <tr>\n",
       "      <th>3</th>\n",
       "      <td>Resnet18</td>\n",
       "      <td>16.08</td>\n",
       "      <td>42656757</td>\n",
       "      <td>74.89</td>\n",
       "      <td>72.82</td>\n",
       "      <td>70.46</td>\n",
       "      <td>40.93</td>\n",
       "      <td>54.51</td>\n",
       "      <td>61.90</td>\n",
       "    </tr>\n",
       "    <tr>\n",
       "      <th>4</th>\n",
       "      <td>Densenet</td>\n",
       "      <td>22.44</td>\n",
       "      <td>31245621</td>\n",
       "      <td>70.51</td>\n",
       "      <td>74.25</td>\n",
       "      <td>76.82</td>\n",
       "      <td>42.62</td>\n",
       "      <td>55.42</td>\n",
       "      <td>63.33</td>\n",
       "    </tr>\n",
       "    <tr>\n",
       "      <th>5</th>\n",
       "      <td>SAM2</td>\n",
       "      <td>NaN</td>\n",
       "      <td>80833666</td>\n",
       "      <td>57.04</td>\n",
       "      <td>53.44</td>\n",
       "      <td>49.49</td>\n",
       "      <td>82.29</td>\n",
       "      <td>66.20</td>\n",
       "      <td>60.07</td>\n",
       "    </tr>\n",
       "  </tbody>\n",
       "</table>"
      ],
      "text/plain": [
       "<IPython.core.display.HTML object>"
      ]
     },
     "metadata": {},
     "output_type": "display_data"
    }
   ],
   "source": [
    "from IPython.display import display, HTML\n",
    "display(HTML(all_files.to_html()))"
   ]
  },
  {
   "cell_type": "code",
   "execution_count": 6,
   "metadata": {},
   "outputs": [],
   "source": [
    "all_files_styled = all_files.style.format(thousands=',', na_rep=\"-\", precision=2)\n",
    "all_files_styled.hide(axis=\"index\")\n",
    "all_files_styled.to_latex(\"tables/cholec_split.tex\")"
   ]
  }
 ],
 "metadata": {
  "kernelspec": {
   "display_name": "Python 3",
   "language": "python",
   "name": "python3"
  },
  "language_info": {
   "codemirror_mode": {
    "name": "ipython",
    "version": 3
   },
   "file_extension": ".py",
   "mimetype": "text/x-python",
   "name": "python",
   "nbconvert_exporter": "python",
   "pygments_lexer": "ipython3",
   "version": "3.10.14"
  }
 },
 "nbformat": 4,
 "nbformat_minor": 2
}
