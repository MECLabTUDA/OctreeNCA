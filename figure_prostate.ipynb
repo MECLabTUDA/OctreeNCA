{
 "cells": [
  {
   "cell_type": "code",
   "execution_count": null,
   "metadata": {},
   "outputs": [],
   "source": [
    "import numpy as np\n",
    "import pandas as pd\n",
    "import seaborn as sns\n",
    "import matplotlib.pyplot as plt\n",
    "import json, os, math"
   ]
  },
  {
   "cell_type": "code",
   "execution_count": null,
   "metadata": {},
   "outputs": [],
   "source": [
    "models = [\n",
    "    (\"<path>/Experiments/prostate_m3d_M3dSegmentation/\", \"M3D-NCA\"),\n",
    "    (\"<path>/Experiments/prostatefAbl_none_10_1.0_16_OctreeNCASegmentation/\", \"OctreeNCA\"),\n",
    "    (\"<path>/Experiments/prostate_unet_UNetSegmentation/\", \"UNet\"),\n",
    "    (\"<path>/Experiments/prostate_munet3d_UNet_resnet18_0_minUNet3DSegmentation/\", \"Resnet18\"),\n",
    "    (\"<path>/Experiments/prostate_munet3d_UNet_densenet121_0_minUNet3DSegmentation/\", \"Densenet\"),\n",
    "]"
   ]
  },
  {
   "cell_type": "code",
   "execution_count": null,
   "metadata": {},
   "outputs": [],
   "source": [
    "annnotation_list = []\n",
    "annotation_dict = {}\n",
    "all_files = []\n",
    "for i, (model, model_name) in enumerate(models):\n",
    "    score = pd.read_csv(f\"{model}eval/standard.csv\", sep='\\t').loc[:, \"DiceScore/0\"] * 100\n",
    "\n",
    "    score_std = score.std()\n",
    "    score = score.mean()\n",
    "\n",
    "    mem_allocation = json.load(open(f\"{model}/mem_allocation.json\"))[\"byte\"]\n",
    "    num_params = json.load(open(f\"{model}/num_params.json\"))[\"num_params\"]\n",
    "\n",
    "    eval_file = {}\n",
    "\n",
    "    eval_file[\"model\"] = model\n",
    "    eval_file[\"mem_allocation\"] = mem_allocation\n",
    "    eval_file[\"num_params\"] = num_params\n",
    "    eval_file[\"score\"] = score\n",
    "    eval_file[\"score_std\"] = score_std\n",
    "    df = pd.DataFrame(index=[i], data=eval_file)\n",
    "    all_files.append(df)\n",
    "    annnotation_list.append((num_params, score, model_name))\n",
    "    annotation_dict[model_name] = (num_params, score)\n",
    "\n",
    "all_files = pd.concat(all_files)"
   ]
  },
  {
   "cell_type": "code",
   "execution_count": null,
   "metadata": {},
   "outputs": [],
   "source": [
    "def get_nnUNet_results(path: str, trainer: str) -> dict:\n",
    "    FOLD = 0\n",
    "    TRAIN_TASK = \"Task506_Prostate_MEDSeg_split\"\n",
    "    EVAL_TASK = \"Task508_Prostate_MEDSeg_split\" \n",
    "    #both are the same dataset. However 506 is not properly preprocessed, so it cannot be used for evaluation\n",
    "    # Later I preprocessed 508 correctly, which can also be used for evaluation. Future work should use 508 for training and evaluation\n",
    "\n",
    "    eval_path = os.path.join(path,\"evaluation\", \"nnUNet_ext\", \"3d_fullres\",\n",
    "                             TRAIN_TASK, TRAIN_TASK, f\"{trainer}__nnUNetPlansv2.1\", \n",
    "                             f\"Generic_UNet/SEQ/head_None/fold_{FOLD}\",EVAL_TASK,\n",
    "                             \"val_metrics_all.csv\")\n",
    "    results_path = os.path.join(path, \"results\", \"nnUNet_ext\", \"3d_fullres\",\n",
    "                             TRAIN_TASK, TRAIN_TASK, f\"{trainer}__nnUNetPlansv2.1\", \n",
    "                             f\"Generic_UNet/SEQ/fold_{FOLD}\")\n",
    "    results = pd.read_csv(eval_path, sep='\\t')\n",
    "    results = results[results[\"split\"] == \"test\"]\n",
    "    results = results[results[\"seg_mask\"] == \"mask_1\"]\n",
    "    results = results[results[\"metric\"] == \"Dice\"]\n",
    "\n",
    "    model_name = {\n",
    "        \"nnUNetTrainerNCA\": \"nnNCA\",\n",
    "        \"nnUNetTrainerSequential\": \"nnUNet\",\n",
    "    }\n",
    "    ret = {\n",
    "        \"model\": model_name[trainer],\n",
    "        \"mem_allocation\": json.load(open(os.path.join(results_path, \"mem_allocation.json\")))[\"byte\"],\n",
    "        \"num_params\": json.load(open(os.path.join(results_path, \"num_params.json\")))[\"num_params\"],\n",
    "        \"score\": results[\"value\"].mean() * 100,\n",
    "        \"score_std\": (results[\"value\"] * 100).std()\n",
    "    }\n",
    "    return ret"
   ]
  },
  {
   "cell_type": "code",
   "execution_count": null,
   "metadata": {},
   "outputs": [],
   "source": [
    "nnOctreeNCA = get_nnUNet_results(\"<path>/nnunet_nca\", \"nnUNetTrainerNCA\")\n",
    "nnUNet = get_nnUNet_results(\"<path>/nnunet_nca\", \"nnUNetTrainerSequential\")\n",
    "data = [nnUNet]\n",
    "df = pd.DataFrame(data=data)\n",
    "all_files = pd.concat([all_files, df])\n",
    "for model_d in data:\n",
    "    annnotation_list.append((model_d[\"num_params\"], model_d[\"score\"], model_d[\"model\"]))\n",
    "    annotation_dict[model_d[\"model\"]] = (model_d[\"num_params\"], model_d[\"score\"])"
   ]
  },
  {
   "cell_type": "code",
   "execution_count": null,
   "metadata": {},
   "outputs": [],
   "source": [
    "from IPython.display import display, HTML\n",
    "display(HTML(all_files.to_html()))"
   ]
  },
  {
   "cell_type": "code",
   "execution_count": null,
   "metadata": {},
   "outputs": [],
   "source": [
    "sns.set_theme()\n",
    "ax = sns.scatterplot(data=all_files, x=\"num_params\", y=\"score\", hue=\"mem_allocation\", size=\"mem_allocation\",legend=False, sizes=(20, 500))\n",
    "for x,y,txt in annnotation_list:\n",
    "    pass\n",
    "    #ax.annotate(txt, (x,y), textcoords=\"offset points\", xytext=(0,10), ha='center')\n",
    "\n",
    "\n",
    "def my_annotate(name, xytext):\n",
    "    ax.annotate(name, annotation_dict[name], textcoords=\"offset points\", xytext=xytext, ha='center',\n",
    "        bbox=dict(boxstyle=\"round,pad=0.3\", edgecolor=\"black\", facecolor=\"white\"),\n",
    "        arrowprops=dict(arrowstyle=\"->\", color='black'))\n",
    "\n",
    "my_annotate(\"M3D-NCA\", (30, -30))\n",
    "my_annotate(\"OctreeNCA\", (30, 30))\n",
    "my_annotate(\"Resnet18\", (-20, -70))\n",
    "my_annotate(\"nnUNet\", (-30, 20))\n",
    "my_annotate(\"UNet\", (-40, 10))\n",
    "my_annotate(\"Densenet\", (-40, -40))\n",
    "\n",
    "plt.xscale(\"log\")\n",
    "plt.xlabel(\"Number of parameters\")\n",
    "plt.ylabel(\"Dice\")\n",
    "plt.title(\"Radiology segmentation\")\n",
    "plt.ylim(40, 100)\n",
    "plt.savefig(\"figures/prostate_segmentation.pdf\", bbox_inches='tight')"
   ]
  },
  {
   "cell_type": "code",
   "execution_count": null,
   "metadata": {},
   "outputs": [],
   "source": [
    "min_vram = math.floor(10 * all_files[\"mem_allocation\"].min() / 1024**3) / 10\n",
    "max_vram = math.ceil(10 * all_files[\"mem_allocation\"].max() / 1024**3) / 10\n",
    "\n",
    "\n",
    "def compute_circle_size(mem_allocation):\n",
    "    mem_allocation = mem_allocation / 1024**3\n",
    "    return 20 + 480 * (mem_allocation - min_vram) / (max_vram - min_vram)"
   ]
  },
  {
   "cell_type": "code",
   "execution_count": null,
   "metadata": {},
   "outputs": [],
   "source": [
    "all_files.loc[:, \"circle_size\"] = all_files[\"mem_allocation\"].apply(compute_circle_size)"
   ]
  },
  {
   "cell_type": "code",
   "execution_count": null,
   "metadata": {},
   "outputs": [],
   "source": [
    "sns.set_theme()\n",
    "ax = sns.scatterplot(data=all_files, x=\"num_params\", y=\"score\", hue=\"mem_allocation\", size=\"mem_allocation\",legend=False, sizes=(20, 500))\n",
    "\n",
    "\n",
    "def my_annotate(name, xytext):\n",
    "    ax.annotate(name, annotation_dict[name], textcoords=\"offset points\", xytext=xytext, ha='center',\n",
    "        bbox=dict(boxstyle=\"round,pad=0.3\", edgecolor=\"black\", facecolor=\"white\"),\n",
    "        arrowprops=dict(arrowstyle=\"->\", color='black'))\n",
    "\n",
    "my_annotate(\"M3D-NCA\", (30, -30))\n",
    "my_annotate(\"OctreeNCA\", (30, 30))\n",
    "my_annotate(\"Resnet18\", (-20, -70))\n",
    "my_annotate(\"nnUNet\", (-30, 20))\n",
    "my_annotate(\"UNet\", (-40, 10))\n",
    "my_annotate(\"Densenet\", (-40, -40))\n",
    "\n",
    "size_values = [20, 500]\n",
    "size_labels = [f\"{min_vram} GiB\", f\"{max_vram} GiB\"]\n",
    "handles = [\n",
    "    plt.scatter([], [], s=size, edgecolor=\"black\", color=\"grey\", label=label)\n",
    "    for size, label in zip(size_values, size_labels)  # Adjust sizes to match your plot\n",
    "]\n",
    "# Add the custom legend\n",
    "plt.legend(\n",
    "    handles=handles,\n",
    "    title=\"Memory Allocation\",\n",
    "    labelspacing=1.2,\n",
    "    loc=\"lower left\",\n",
    "    borderpad=1.0,\n",
    "    frameon=True\n",
    ")\n",
    "\n",
    "plt.xscale(\"log\")\n",
    "plt.xlabel(\"Number of parameters\")\n",
    "plt.ylabel(\"Dice\")\n",
    "plt.title(\"Radiology segmentation\")\n",
    "plt.ylim(40, 100)\n",
    "plt.savefig(\"figures/prostate_segmentation.pdf\", bbox_inches='tight')"
   ]
  }
 ],
 "metadata": {
  "kernelspec": {
   "display_name": "Python 3",
   "language": "python",
   "name": "python3"
  },
  "language_info": {
   "codemirror_mode": {
    "name": "ipython",
    "version": 3
   },
   "file_extension": ".py",
   "mimetype": "text/x-python",
   "name": "python",
   "nbconvert_exporter": "python",
   "pygments_lexer": "ipython3",
   "version": "3.10.14"
  }
 },
 "nbformat": 4,
 "nbformat_minor": 2
}
