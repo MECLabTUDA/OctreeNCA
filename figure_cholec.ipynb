{
 "cells": [
  {
   "cell_type": "code",
   "execution_count": null,
   "metadata": {},
   "outputs": [],
   "source": [
    "import numpy as np\n",
    "import pandas as pd\n",
    "import seaborn as sns\n",
    "import matplotlib.pyplot as plt\n",
    "import json, math"
   ]
  },
  {
   "cell_type": "code",
   "execution_count": null,
   "metadata": {},
   "outputs": [],
   "source": [
    "models = [\n",
    "    (\"<path>/Experiments/cholecfFixAbl_none_10_1.0_16_1_1.0_0.99_OctreeNCASegmentation\", \"OctreeNCA\"),\n",
    "    (\"<path>/Experiments/cholec_unet_UNetSegmentation/\", \"UNet\"),\n",
    "    (\"<path>/Experiments/cholec_munet3d_UNet_resnet18_0_minUNet3DSegmentation/\", \"Resnet18\"),\n",
    "    (\"<path>/Experiments/cholec_munet3d_UNet_densenet121_0_minUNet3DSegmentation/\", \"Densenet\"),\n",
    "    (\"<path>/Experiments/cholec_M3dSegmentation/\", \"M3D-NCA\"),\n",
    "]"
   ]
  },
  {
   "cell_type": "code",
   "execution_count": null,
   "metadata": {},
   "outputs": [],
   "source": [
    "nan_template = pd.read_csv(f\"<path>/Experiments/cholec_sam_Sam3DSegmentation/eval/standard.csv\", sep='\\t')\n",
    "nan_template.set_index('Unnamed: 0', inplace=True)\n",
    "annnotation_list = []\n",
    "annotation_dict = {}\n",
    "all_files = []\n",
    "for i, (model, model_name) in enumerate(models):\n",
    "    score = pd.read_csv(f\"{model}/eval/standard.csv\", sep='\\t')\n",
    "    score.set_index('Unnamed: 0', inplace=True)\n",
    "    score[nan_template.isna()] = np.nan\n",
    "    \n",
    "    MEAN_DICE = True\n",
    "    if MEAN_DICE:\n",
    "        score = score.loc[:, [\"DiceScore/0\", \"DiceScore/1\", \"DiceScore/2\", \"DiceScore/3\", \"DiceScore/4\"]]\n",
    "        score = score.mean(axis=1)\n",
    "        score = score.mean() * 100\n",
    "    else:\n",
    "        score = score.loc[:, \"DiceScore/0\"].mean() * 100\n",
    "        \n",
    "\n",
    "\n",
    "    mem_allocation = json.load(open(f\"{model}/mem_allocation.json\"))[\"byte\"]\n",
    "    num_params = json.load(open(f\"{model}/num_params.json\"))[\"num_params\"]\n",
    "\n",
    "    eval_file = {}\n",
    "\n",
    "    eval_file[\"model\"] = model\n",
    "    eval_file[\"mem_allocation\"] = mem_allocation\n",
    "    eval_file[\"num_params\"] = num_params\n",
    "    eval_file[\"score\"] = score\n",
    "    df = pd.DataFrame(index=[i], data=eval_file)\n",
    "    all_files.append(df)\n",
    "    annnotation_list.append((num_params, score, model_name))\n",
    "    annotation_dict[model_name] = (num_params, score)\n",
    "\n",
    "all_files = pd.concat(all_files)"
   ]
  },
  {
   "cell_type": "code",
   "execution_count": null,
   "metadata": {},
   "outputs": [],
   "source": [
    "from IPython.display import display, HTML\n",
    "display(HTML(all_files.to_html()))"
   ]
  },
  {
   "cell_type": "code",
   "execution_count": null,
   "metadata": {},
   "outputs": [],
   "source": [
    "sam_path = \"<path>/Experiments/cholec_sam2_base_plus_Sam3DSegmentation\"\n",
    "\n",
    "sam_performance = pd.read_csv(f\"{sam_path}/eval/standard.csv\", sep='\\t')\n",
    "\n",
    "sam_performance = sam_performance.loc[:, [\"DiceScore/0\", \"DiceScore/1\", \"DiceScore/2\", \"DiceScore/3\", \"DiceScore/4\"]]\n",
    "sam_performance = sam_performance.mean(axis=1)\n",
    "sam_performance = sam_performance.mean() * 100\n",
    "print(sam_performance)\n",
    "\n",
    "sam_num_params = json.load(open(f\"{sam_path}/num_params.json\"))[\"num_params\"]\n",
    "annotation_dict[\"SAM2\"] = (sam_num_params, sam_performance)"
   ]
  },
  {
   "cell_type": "code",
   "execution_count": null,
   "metadata": {},
   "outputs": [],
   "source": [
    "sns.set_theme()\n",
    "ax = sns.scatterplot(data=all_files, x=\"num_params\", y=\"score\", hue=\"mem_allocation\", size=\"mem_allocation\",legend=False, sizes=(20, 500))\n",
    "\n",
    "#ax.annotate('SAM2', (sam_num_params, sam_performance), textcoords=\"offset points\", xytext=(0,10), ha='center',\n",
    "#    bbox=dict(boxstyle=\"round,pad=0.3\", edgecolor=\"black\", facecolor=\"white\"),\n",
    "#    arrowprops=dict(arrowstyle=\"->\"))\n",
    "scatter = ax.scatter(sam_num_params, sam_performance, color='green', marker='*', s=375, edgecolor='white', linewidth=1.25)\n",
    "\n",
    "#for x,y,txt in annnotation_list:\n",
    "#    ax.annotate(txt, (x,y), textcoords=\"offset points\", xytext=(0,10), ha='center',\n",
    "#        bbox=dict(boxstyle=\"round,pad=0.3\", edgecolor=\"black\", facecolor=\"white\"),\n",
    "#        arrowprops=dict(arrowstyle=\"->\"))\n",
    "#    pass\n",
    "\n",
    "def my_annotate(name, xytext):\n",
    "    ax.annotate(name, annotation_dict[name], textcoords=\"offset points\", xytext=xytext, ha='center',\n",
    "        bbox=dict(boxstyle=\"round,pad=0.3\", edgecolor=\"black\", facecolor=\"white\"),\n",
    "        arrowprops=dict(arrowstyle=\"->\", color='black'))\n",
    "\n",
    "my_annotate(\"M3D-NCA\", (20,-30))\n",
    "my_annotate(\"OctreeNCA\", (30,30))\n",
    "my_annotate(\"UNet\", (-40,-30))\n",
    "my_annotate(\"SAM2\", (-35,-30))\n",
    "my_annotate(\"Densenet\", (-35, 20))\n",
    "my_annotate(\"Resnet18\", (-55,-10))\n",
    "\n",
    "plt.xscale(\"log\")\n",
    "plt.xlabel(\"Number of parameters\")\n",
    "plt.ylabel(\"mDice\")\n",
    "plt.title(\"Surgical video segmentation\")\n",
    "plt.ylim(45, 70)\n",
    "plt.savefig(\"figures/cholec_video_segmentation.pdf\", bbox_inches='tight')"
   ]
  },
  {
   "cell_type": "code",
   "execution_count": null,
   "metadata": {},
   "outputs": [],
   "source": [
    "min_vram = math.floor(10 * all_files[\"mem_allocation\"].min() / 1024**3) / 10\n",
    "max_vram = math.ceil(10 * all_files[\"mem_allocation\"].max() / 1024**3) / 10\n",
    "\n",
    "\n",
    "def compute_circle_size(mem_allocation):\n",
    "    mem_allocation = mem_allocation / 1024**3\n",
    "    return 20 + 480 * (mem_allocation - min_vram) / (max_vram - min_vram)"
   ]
  },
  {
   "cell_type": "code",
   "execution_count": null,
   "metadata": {},
   "outputs": [],
   "source": [
    "all_files.loc[:, \"circle_size\"] = all_files[\"mem_allocation\"].apply(compute_circle_size)"
   ]
  },
  {
   "cell_type": "code",
   "execution_count": null,
   "metadata": {},
   "outputs": [],
   "source": [
    "sns.set_theme()\n",
    "ax = sns.scatterplot(data=all_files, x=\"num_params\", y=\"score\", hue=\"mem_allocation\", size=\"circle_size\",legend=False, sizes=(20, 500))\n",
    "scatter = ax.scatter(sam_num_params, sam_performance, color='green', marker='*', s=375, edgecolor='white', linewidth=1.25)\n",
    "\n",
    "\n",
    "def my_annotate(name, xytext):\n",
    "    ax.annotate(name, annotation_dict[name], textcoords=\"offset points\", xytext=xytext, ha='center',\n",
    "        bbox=dict(boxstyle=\"round,pad=0.3\", edgecolor=\"black\", facecolor=\"white\"),\n",
    "        arrowprops=dict(arrowstyle=\"->\", color='black'))\n",
    "\n",
    "my_annotate(\"M3D-NCA\", (20,-30))\n",
    "my_annotate(\"OctreeNCA\", (30,30))\n",
    "my_annotate(\"UNet\", (-40,-30))\n",
    "my_annotate(\"SAM2\", (-35,-30))\n",
    "my_annotate(\"Densenet\", (-35, 20))\n",
    "my_annotate(\"Resnet18\", (-55,-10))\n",
    "\n",
    "size_values = [20, 500]\n",
    "size_labels = [f\"{min_vram} GiB\", f\"{max_vram} GiB\"]\n",
    "handles = [\n",
    "    plt.scatter([], [], s=size, edgecolor=\"black\", color=\"grey\", label=label)\n",
    "    for size, label in zip(size_values, size_labels)  # Adjust sizes to match your plot\n",
    "]\n",
    "# Add the custom legend\n",
    "plt.legend(\n",
    "    handles=handles,\n",
    "    title=\"Memory Allocation\",\n",
    "    labelspacing=1.2,\n",
    "    loc=\"lower left\",\n",
    "    borderpad=1.0,\n",
    "    frameon=True\n",
    ")\n",
    "\n",
    "plt.xscale(\"log\")\n",
    "plt.xlabel(\"Number of parameters\")\n",
    "plt.ylabel(\"mDice\")\n",
    "plt.title(\"Surgical video segmentation\")\n",
    "plt.ylim(45, 70)\n",
    "plt.savefig(\"figures/cholec_video_segmentation.pdf\", bbox_inches='tight')"
   ]
  }
 ],
 "metadata": {
  "kernelspec": {
   "display_name": "Python 3",
   "language": "python",
   "name": "python3"
  },
  "language_info": {
   "codemirror_mode": {
    "name": "ipython",
    "version": 3
   },
   "file_extension": ".py",
   "mimetype": "text/x-python",
   "name": "python",
   "nbconvert_exporter": "python",
   "pygments_lexer": "ipython3",
   "version": "3.10.14"
  }
 },
 "nbformat": 4,
 "nbformat_minor": 2
}
